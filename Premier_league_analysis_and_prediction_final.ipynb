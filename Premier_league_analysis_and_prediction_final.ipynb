{
  "nbformat": 4,
  "nbformat_minor": 0,
  "metadata": {
    "colab": {
      "provenance": []
    },
    "kernelspec": {
      "name": "python3",
      "display_name": "Python 3"
    },
    "language_info": {
      "name": "python"
    }
  },
  "cells": [
    {
      "cell_type": "code",
      "execution_count": 2,
      "metadata": {
        "colab": {
          "base_uri": "https://localhost:8080/"
        },
        "id": "XWUFSMNtdVzP",
        "outputId": "80ece818-e555-4087-c4b9-a54859148a73"
      },
      "outputs": [
        {
          "output_type": "stream",
          "name": "stdout",
          "text": [
            "Collecting pyspark\n",
            "  Downloading pyspark-3.5.1.tar.gz (317.0 MB)\n",
            "\u001b[2K     \u001b[90m━━━━━━━━━━━━━━━━━━━━━━━━━━━━━━━━━━━━━━━━\u001b[0m \u001b[32m317.0/317.0 MB\u001b[0m \u001b[31m4.4 MB/s\u001b[0m eta \u001b[36m0:00:00\u001b[0m\n",
            "\u001b[?25h  Preparing metadata (setup.py) ... \u001b[?25l\u001b[?25hdone\n",
            "Requirement already satisfied: py4j==0.10.9.7 in /usr/local/lib/python3.10/dist-packages (from pyspark) (0.10.9.7)\n",
            "Building wheels for collected packages: pyspark\n",
            "  Building wheel for pyspark (setup.py) ... \u001b[?25l\u001b[?25hdone\n",
            "  Created wheel for pyspark: filename=pyspark-3.5.1-py2.py3-none-any.whl size=317488491 sha256=674f9b5cfda9d47a6d2df107339985466e0789b13cb457389c74700e6ed81e80\n",
            "  Stored in directory: /root/.cache/pip/wheels/80/1d/60/2c256ed38dddce2fdd93be545214a63e02fbd8d74fb0b7f3a6\n",
            "Successfully built pyspark\n",
            "Installing collected packages: pyspark\n",
            "Successfully installed pyspark-3.5.1\n"
          ]
        }
      ],
      "source": [
        "!pip install pyspark"
      ]
    },
    {
      "cell_type": "code",
      "source": [
        "import pyspark\n",
        "import pandas as pd\n",
        "from pyspark.sql import SparkSession\n",
        "from pyspark.sql.functions import col"
      ],
      "metadata": {
        "id": "5tQxxragdh3a"
      },
      "execution_count": 3,
      "outputs": []
    },
    {
      "cell_type": "code",
      "source": [
        "spark = SparkSession.builder.appName(\"tutorial\").getOrCreate()"
      ],
      "metadata": {
        "id": "M3k4a8UqejZ8"
      },
      "execution_count": 4,
      "outputs": []
    },
    {
      "cell_type": "code",
      "source": [
        "df = spark.read.csv(\"/content/matches.csv\")\n",
        "df"
      ],
      "metadata": {
        "colab": {
          "base_uri": "https://localhost:8080/"
        },
        "id": "W1Y2ya6WfBwS",
        "outputId": "bccf0c75-e07d-46f3-fd1c-4d873c0fa791"
      },
      "execution_count": 5,
      "outputs": [
        {
          "output_type": "execute_result",
          "data": {
            "text/plain": [
              "DataFrame[_c0: string, _c1: string, _c2: string, _c3: string, _c4: string, _c5: string, _c6: string, _c7: string, _c8: string, _c9: string, _c10: string, _c11: string, _c12: string, _c13: string, _c14: string, _c15: string, _c16: string, _c17: string, _c18: string, _c19: string, _c20: string, _c21: string, _c22: string, _c23: string, _c24: string, _c25: string, _c26: string, _c27: string]"
            ]
          },
          "metadata": {},
          "execution_count": 5
        }
      ]
    },
    {
      "cell_type": "code",
      "source": [
        "df.show()"
      ],
      "metadata": {
        "id": "udNl6K-bf8jx",
        "colab": {
          "base_uri": "https://localhost:8080/"
        },
        "outputId": "17610033-c4bc-460f-88cb-846bf82e1d72"
      },
      "execution_count": 6,
      "outputs": [
        {
          "output_type": "stream",
          "name": "stdout",
          "text": [
            "+----+----------+-----+--------------+------------+---+-----+------+---+---+---------------+----+----+----+----------+---------------+---------+--------------+------------+-----+----+----+----+----+----+-----+------+---------------+\n",
            "| _c0|       _c1|  _c2|           _c3|         _c4|_c5|  _c6|   _c7|_c8|_c9|           _c10|_c11|_c12|_c13|      _c14|           _c15|     _c16|          _c17|        _c18| _c19|_c20|_c21|_c22|_c23|_c24| _c25|  _c26|           _c27|\n",
            "+----+----------+-----+--------------+------------+---+-----+------+---+---+---------------+----+----+----+----------+---------------+---------+--------------+------------+-----+----+----+----+----+----+-----+------+---------------+\n",
            "|NULL|      date| time|          comp|       round|day|venue|result| gf| ga|       opponent|  xg| xga|poss|attendance|        captain|formation|       referee|match report|notes|  sh| sot|dist|  fk|  pk|pkatt|season|           team|\n",
            "|   1|2023-08-11|20:00|Premier League| Matchweek 1|Fri| Away|     W|  3|  0|        Burnley| 1.9| 0.3|65.0|   21572.0|Kevin De Bruyne|  4-2-3-1|  Craig Pawson|Match Report| NULL|17.0| 8.0|13.9| 0.0|   0|    0|  2024|Manchester City|\n",
            "|   3|2023-08-19|20:00|Premier League| Matchweek 2|Sat| Home|     W|  1|  0|  Newcastle Utd| 1.0| 0.3|59.0|   53419.0|    Kyle Walker|  4-2-3-1|  Robert Jones|Match Report| NULL|14.0| 4.0|17.9| 0.0|   0|    0|  2024|Manchester City|\n",
            "|   4|2023-08-27|14:00|Premier League| Matchweek 3|Sun| Away|     W|  2|  1|  Sheffield Utd| 3.5| 0.7|79.0|   31336.0|    Kyle Walker|  4-2-3-1|Jarred Gillett|Match Report| NULL|29.0| 9.0|17.3| 2.0|   0|    1|  2024|Manchester City|\n",
            "|   5|2023-09-02|15:00|Premier League| Matchweek 4|Sat| Home|     W|  5|  1|         Fulham| 2.2| 1.4|68.0|   52899.0|    Kyle Walker|  4-2-3-1|Michael Oliver|Match Report| NULL| 6.0| 4.0|14.8| 0.0|   1|    1|  2024|Manchester City|\n",
            "|   6|2023-09-16|15:00|Premier League| Matchweek 5|Sat| Away|     W|  3|  1|       West Ham| 3.6| 0.9|68.0|   62475.0|    Kyle Walker|  4-2-3-1|   Andy Madley|Match Report| NULL|29.0|13.0|16.4| 1.0|   0|    0|  2024|Manchester City|\n",
            "|   8|2023-09-23|15:00|Premier League| Matchweek 6|Sat| Home|     W|  2|  0|Nott'ham Forest| 1.3| 1.0|57.0|   53413.0|    Kyle Walker|  4-2-3-1|Anthony Taylor|Match Report| NULL| 7.0| 4.0|17.2| 2.0|   0|    0|  2024|Manchester City|\n",
            "|  10|2023-09-30|15:00|Premier League| Matchweek 7|Sat| Away|     L|  1|  2|         Wolves| 0.9| 0.4|68.0|   31415.0|    Kyle Walker|  4-2-3-1|  Craig Pawson|Match Report| NULL|23.0| 8.0|19.3| 1.0|   0|    0|  2024|Manchester City|\n",
            "|  12|2023-10-08|16:30|Premier League| Matchweek 8|Sun| Away|     L|  0|  1|        Arsenal| 0.5| 0.4|51.0|   60233.0|    Kyle Walker|    4-3-3|Michael Oliver|Match Report| NULL| 4.0| 0.0|14.9| 0.0|   0|    0|  2024|Manchester City|\n",
            "|  13|2023-10-21|15:00|Premier League| Matchweek 9|Sat| Home|     W|  2|  1|       Brighton| 0.8| 0.8|55.0|   53466.0|    Kyle Walker|  3-2-4-1|  Robert Jones|Match Report| NULL|10.0| 5.0|18.8| 1.0|   0|    0|  2024|Manchester City|\n",
            "|  15|2023-10-29|15:30|Premier League|Matchweek 10|Sun| Away|     W|  3|  0| Manchester Utd| 4.0| 0.9|60.0|   73502.0|    Kyle Walker|  4-2-3-1|  Paul Tierney|Match Report| NULL|20.0| 9.0|17.2| 2.0|   1|    1|  2024|Manchester City|\n",
            "|  16|2023-11-04|15:00|Premier League|Matchweek 11|Sat| Home|     W|  6|  1|    Bournemouth| 1.9| 0.9|65.0|   53358.0|    Kyle Walker|    3-4-3|  Craig Pawson|Match Report| NULL|21.0| 8.0|16.4| 0.0|   0|    0|  2024|Manchester City|\n",
            "|  18|2023-11-12|16:30|Premier League|Matchweek 12|Sun| Away|     D|  4|  4|        Chelsea| 2.9| 2.9|55.0|   39532.0|    Kyle Walker|  3-2-4-1|Anthony Taylor|Match Report| NULL|14.0| 9.0|16.6| 1.0|   1|    1|  2024|Manchester City|\n",
            "|  19|2023-11-25|12:30|Premier League|Matchweek 13|Sat| Home|     D|  1|  1|      Liverpool| 1.3| 0.6|59.0|   53289.0|    Kyle Walker|  3-2-4-1|Chris Kavanagh|Match Report| NULL|16.0| 5.0|16.3| 1.0|   0|    0|  2024|Manchester City|\n",
            "|  21|2023-12-03|16:30|Premier League|Matchweek 14|Sun| Home|     D|  3|  3|      Tottenham| 2.6| 0.5|55.0|   53473.0|    Kyle Walker|  3-2-4-1|  Simon Hooper|Match Report| NULL|17.0| 4.0|13.4| 0.0|   0|    0|  2024|Manchester City|\n",
            "|  22|2023-12-06|20:15|Premier League|Matchweek 15|Wed| Away|     L|  0|  1|    Aston Villa| 0.6| 2.3|54.0|   41421.0|    Kyle Walker|  3-2-4-1|   John Brooks|Match Report| NULL| 2.0| 2.0| 7.4| 0.0|   0|    0|  2024|Manchester City|\n",
            "|  23|2023-12-10|14:00|Premier League|Matchweek 16|Sun| Away|     W|  2|  1|     Luton Town| 1.6| 0.3|65.0|   11047.0|    Kyle Walker|  4-2-3-1|  Tim Robinson|Match Report| NULL|18.0| 6.0|18.7| 1.0|   0|    0|  2024|Manchester City|\n",
            "|  25|2023-12-16|15:00|Premier League|Matchweek 17|Sat| Home|     D|  2|  2| Crystal Palace| 1.6| 1.8|74.0|   53248.0|    Kyle Walker|  4-2-3-1|  Paul Tierney|Match Report| NULL|19.0| 9.0|18.2| 0.0|   0|    0|  2024|Manchester City|\n",
            "|  26|2023-12-27|20:15|Premier League|Matchweek 19|Wed| Away|     W|  3|  1|        Everton| 2.4| 1.0|72.0|   39327.0|    Kyle Walker|  4-2-3-1|   John Brooks|Match Report| NULL|22.0| 8.0|19.5| 1.0|   1|    1|  2024|Manchester City|\n",
            "|  27|2023-12-30|15:00|Premier League|Matchweek 20|Sat| Home|     W|  2|  0|  Sheffield Utd| 2.2| 0.3|80.0|   53108.0|    Kyle Walker|  4-2-3-1|   David Coote|Match Report| NULL|18.0| 4.0|17.4| 0.0|   0|    0|  2024|Manchester City|\n",
            "+----+----------+-----+--------------+------------+---+-----+------+---+---+---------------+----+----+----+----------+---------------+---------+--------------+------------+-----+----+----+----+----+----+-----+------+---------------+\n",
            "only showing top 20 rows\n",
            "\n"
          ]
        }
      ]
    },
    {
      "cell_type": "markdown",
      "source": [
        "**options('header','true) to specify that the first row is the header**\n",
        "\n"
      ],
      "metadata": {
        "id": "2m1jAKoQizze"
      }
    },
    {
      "cell_type": "code",
      "source": [
        "df = spark.read.option('header','true').csv(\"/content/matches.csv\")\n",
        "df"
      ],
      "metadata": {
        "id": "ChZj5NQigSd-",
        "colab": {
          "base_uri": "https://localhost:8080/"
        },
        "outputId": "d7b1c568-e495-4031-9039-8edaec709e9d"
      },
      "execution_count": 7,
      "outputs": [
        {
          "output_type": "execute_result",
          "data": {
            "text/plain": [
              "DataFrame[_c0: string, date: string, time: string, comp: string, round: string, day: string, venue: string, result: string, gf: string, ga: string, opponent: string, xg: string, xga: string, poss: string, attendance: string, captain: string, formation: string, referee: string, match report: string, notes: string, sh: string, sot: string, dist: string, fk: string, pk: string, pkatt: string, season: string, team: string]"
            ]
          },
          "metadata": {},
          "execution_count": 7
        }
      ]
    },
    {
      "cell_type": "code",
      "source": [
        "df.show()"
      ],
      "metadata": {
        "id": "B2k0ThgRgpSq",
        "colab": {
          "base_uri": "https://localhost:8080/"
        },
        "outputId": "e7beec97-8e0c-4463-d20f-6ed2ab62595a"
      },
      "execution_count": 8,
      "outputs": [
        {
          "output_type": "stream",
          "name": "stdout",
          "text": [
            "+---+----------+-----+--------------+------------+---+-----+------+---+---+---------------+---+---+----+----------+---------------+---------+--------------+------------+-----+----+----+----+---+---+-----+------+---------------+\n",
            "|_c0|      date| time|          comp|       round|day|venue|result| gf| ga|       opponent| xg|xga|poss|attendance|        captain|formation|       referee|match report|notes|  sh| sot|dist| fk| pk|pkatt|season|           team|\n",
            "+---+----------+-----+--------------+------------+---+-----+------+---+---+---------------+---+---+----+----------+---------------+---------+--------------+------------+-----+----+----+----+---+---+-----+------+---------------+\n",
            "|  1|2023-08-11|20:00|Premier League| Matchweek 1|Fri| Away|     W|  3|  0|        Burnley|1.9|0.3|65.0|   21572.0|Kevin De Bruyne|  4-2-3-1|  Craig Pawson|Match Report| NULL|17.0| 8.0|13.9|0.0|  0|    0|  2024|Manchester City|\n",
            "|  3|2023-08-19|20:00|Premier League| Matchweek 2|Sat| Home|     W|  1|  0|  Newcastle Utd|1.0|0.3|59.0|   53419.0|    Kyle Walker|  4-2-3-1|  Robert Jones|Match Report| NULL|14.0| 4.0|17.9|0.0|  0|    0|  2024|Manchester City|\n",
            "|  4|2023-08-27|14:00|Premier League| Matchweek 3|Sun| Away|     W|  2|  1|  Sheffield Utd|3.5|0.7|79.0|   31336.0|    Kyle Walker|  4-2-3-1|Jarred Gillett|Match Report| NULL|29.0| 9.0|17.3|2.0|  0|    1|  2024|Manchester City|\n",
            "|  5|2023-09-02|15:00|Premier League| Matchweek 4|Sat| Home|     W|  5|  1|         Fulham|2.2|1.4|68.0|   52899.0|    Kyle Walker|  4-2-3-1|Michael Oliver|Match Report| NULL| 6.0| 4.0|14.8|0.0|  1|    1|  2024|Manchester City|\n",
            "|  6|2023-09-16|15:00|Premier League| Matchweek 5|Sat| Away|     W|  3|  1|       West Ham|3.6|0.9|68.0|   62475.0|    Kyle Walker|  4-2-3-1|   Andy Madley|Match Report| NULL|29.0|13.0|16.4|1.0|  0|    0|  2024|Manchester City|\n",
            "|  8|2023-09-23|15:00|Premier League| Matchweek 6|Sat| Home|     W|  2|  0|Nott'ham Forest|1.3|1.0|57.0|   53413.0|    Kyle Walker|  4-2-3-1|Anthony Taylor|Match Report| NULL| 7.0| 4.0|17.2|2.0|  0|    0|  2024|Manchester City|\n",
            "| 10|2023-09-30|15:00|Premier League| Matchweek 7|Sat| Away|     L|  1|  2|         Wolves|0.9|0.4|68.0|   31415.0|    Kyle Walker|  4-2-3-1|  Craig Pawson|Match Report| NULL|23.0| 8.0|19.3|1.0|  0|    0|  2024|Manchester City|\n",
            "| 12|2023-10-08|16:30|Premier League| Matchweek 8|Sun| Away|     L|  0|  1|        Arsenal|0.5|0.4|51.0|   60233.0|    Kyle Walker|    4-3-3|Michael Oliver|Match Report| NULL| 4.0| 0.0|14.9|0.0|  0|    0|  2024|Manchester City|\n",
            "| 13|2023-10-21|15:00|Premier League| Matchweek 9|Sat| Home|     W|  2|  1|       Brighton|0.8|0.8|55.0|   53466.0|    Kyle Walker|  3-2-4-1|  Robert Jones|Match Report| NULL|10.0| 5.0|18.8|1.0|  0|    0|  2024|Manchester City|\n",
            "| 15|2023-10-29|15:30|Premier League|Matchweek 10|Sun| Away|     W|  3|  0| Manchester Utd|4.0|0.9|60.0|   73502.0|    Kyle Walker|  4-2-3-1|  Paul Tierney|Match Report| NULL|20.0| 9.0|17.2|2.0|  1|    1|  2024|Manchester City|\n",
            "| 16|2023-11-04|15:00|Premier League|Matchweek 11|Sat| Home|     W|  6|  1|    Bournemouth|1.9|0.9|65.0|   53358.0|    Kyle Walker|    3-4-3|  Craig Pawson|Match Report| NULL|21.0| 8.0|16.4|0.0|  0|    0|  2024|Manchester City|\n",
            "| 18|2023-11-12|16:30|Premier League|Matchweek 12|Sun| Away|     D|  4|  4|        Chelsea|2.9|2.9|55.0|   39532.0|    Kyle Walker|  3-2-4-1|Anthony Taylor|Match Report| NULL|14.0| 9.0|16.6|1.0|  1|    1|  2024|Manchester City|\n",
            "| 19|2023-11-25|12:30|Premier League|Matchweek 13|Sat| Home|     D|  1|  1|      Liverpool|1.3|0.6|59.0|   53289.0|    Kyle Walker|  3-2-4-1|Chris Kavanagh|Match Report| NULL|16.0| 5.0|16.3|1.0|  0|    0|  2024|Manchester City|\n",
            "| 21|2023-12-03|16:30|Premier League|Matchweek 14|Sun| Home|     D|  3|  3|      Tottenham|2.6|0.5|55.0|   53473.0|    Kyle Walker|  3-2-4-1|  Simon Hooper|Match Report| NULL|17.0| 4.0|13.4|0.0|  0|    0|  2024|Manchester City|\n",
            "| 22|2023-12-06|20:15|Premier League|Matchweek 15|Wed| Away|     L|  0|  1|    Aston Villa|0.6|2.3|54.0|   41421.0|    Kyle Walker|  3-2-4-1|   John Brooks|Match Report| NULL| 2.0| 2.0| 7.4|0.0|  0|    0|  2024|Manchester City|\n",
            "| 23|2023-12-10|14:00|Premier League|Matchweek 16|Sun| Away|     W|  2|  1|     Luton Town|1.6|0.3|65.0|   11047.0|    Kyle Walker|  4-2-3-1|  Tim Robinson|Match Report| NULL|18.0| 6.0|18.7|1.0|  0|    0|  2024|Manchester City|\n",
            "| 25|2023-12-16|15:00|Premier League|Matchweek 17|Sat| Home|     D|  2|  2| Crystal Palace|1.6|1.8|74.0|   53248.0|    Kyle Walker|  4-2-3-1|  Paul Tierney|Match Report| NULL|19.0| 9.0|18.2|0.0|  0|    0|  2024|Manchester City|\n",
            "| 26|2023-12-27|20:15|Premier League|Matchweek 19|Wed| Away|     W|  3|  1|        Everton|2.4|1.0|72.0|   39327.0|    Kyle Walker|  4-2-3-1|   John Brooks|Match Report| NULL|22.0| 8.0|19.5|1.0|  1|    1|  2024|Manchester City|\n",
            "| 27|2023-12-30|15:00|Premier League|Matchweek 20|Sat| Home|     W|  2|  0|  Sheffield Utd|2.2|0.3|80.0|   53108.0|    Kyle Walker|  4-2-3-1|   David Coote|Match Report| NULL|18.0| 4.0|17.4|0.0|  0|    0|  2024|Manchester City|\n",
            "| 29|2024-01-13|17:30|Premier League|Matchweek 21|Sat| Away|     W|  3|  2|  Newcastle Utd|3.0|1.3|72.0|   52190.0|    Kyle Walker|  4-2-3-1|Chris Kavanagh|Match Report| NULL|27.0|11.0|19.3|2.0|  0|    0|  2024|Manchester City|\n",
            "+---+----------+-----+--------------+------------+---+-----+------+---+---+---------------+---+---+----+----------+---------------+---------+--------------+------------+-----+----+----+----+---+---+-----+------+---------------+\n",
            "only showing top 20 rows\n",
            "\n"
          ]
        }
      ]
    },
    {
      "cell_type": "code",
      "source": [
        "df.printSchema()"
      ],
      "metadata": {
        "id": "P_Ja5Hxsg2xA",
        "colab": {
          "base_uri": "https://localhost:8080/"
        },
        "outputId": "c23713cb-8a04-41af-c218-038d54cb9c30"
      },
      "execution_count": 9,
      "outputs": [
        {
          "output_type": "stream",
          "name": "stdout",
          "text": [
            "root\n",
            " |-- _c0: string (nullable = true)\n",
            " |-- date: string (nullable = true)\n",
            " |-- time: string (nullable = true)\n",
            " |-- comp: string (nullable = true)\n",
            " |-- round: string (nullable = true)\n",
            " |-- day: string (nullable = true)\n",
            " |-- venue: string (nullable = true)\n",
            " |-- result: string (nullable = true)\n",
            " |-- gf: string (nullable = true)\n",
            " |-- ga: string (nullable = true)\n",
            " |-- opponent: string (nullable = true)\n",
            " |-- xg: string (nullable = true)\n",
            " |-- xga: string (nullable = true)\n",
            " |-- poss: string (nullable = true)\n",
            " |-- attendance: string (nullable = true)\n",
            " |-- captain: string (nullable = true)\n",
            " |-- formation: string (nullable = true)\n",
            " |-- referee: string (nullable = true)\n",
            " |-- match report: string (nullable = true)\n",
            " |-- notes: string (nullable = true)\n",
            " |-- sh: string (nullable = true)\n",
            " |-- sot: string (nullable = true)\n",
            " |-- dist: string (nullable = true)\n",
            " |-- fk: string (nullable = true)\n",
            " |-- pk: string (nullable = true)\n",
            " |-- pkatt: string (nullable = true)\n",
            " |-- season: string (nullable = true)\n",
            " |-- team: string (nullable = true)\n",
            "\n"
          ]
        }
      ]
    },
    {
      "cell_type": "markdown",
      "source": [
        "**Everything is a string. to fix that, use inferschema**"
      ],
      "metadata": {
        "id": "VJak7guajEO-"
      }
    },
    {
      "cell_type": "code",
      "source": [
        "df = spark.read.option('header','true').csv(\"/content/matches.csv\", inferSchema=True)\n",
        "df\n",
        "#you could also use df = spark.read.csv(\"/content/matches.csv\", header= True, inferSchema=True)"
      ],
      "metadata": {
        "id": "wL3looU4hGTr",
        "colab": {
          "base_uri": "https://localhost:8080/"
        },
        "outputId": "fce46879-52d9-4829-d0e4-20e736dbe8fe"
      },
      "execution_count": 10,
      "outputs": [
        {
          "output_type": "execute_result",
          "data": {
            "text/plain": [
              "DataFrame[_c0: int, date: date, time: timestamp, comp: string, round: string, day: string, venue: string, result: string, gf: int, ga: int, opponent: string, xg: double, xga: double, poss: double, attendance: double, captain: string, formation: string, referee: string, match report: string, notes: string, sh: double, sot: double, dist: double, fk: double, pk: int, pkatt: int, season: int, team: string]"
            ]
          },
          "metadata": {},
          "execution_count": 10
        }
      ]
    },
    {
      "cell_type": "code",
      "source": [
        "\n",
        "df.columns"
      ],
      "metadata": {
        "id": "0-gqaNbEjXAk",
        "colab": {
          "base_uri": "https://localhost:8080/"
        },
        "outputId": "c326f83b-b8cc-4060-f036-bf035f7b22f9"
      },
      "execution_count": 11,
      "outputs": [
        {
          "output_type": "execute_result",
          "data": {
            "text/plain": [
              "['_c0',\n",
              " 'date',\n",
              " 'time',\n",
              " 'comp',\n",
              " 'round',\n",
              " 'day',\n",
              " 'venue',\n",
              " 'result',\n",
              " 'gf',\n",
              " 'ga',\n",
              " 'opponent',\n",
              " 'xg',\n",
              " 'xga',\n",
              " 'poss',\n",
              " 'attendance',\n",
              " 'captain',\n",
              " 'formation',\n",
              " 'referee',\n",
              " 'match report',\n",
              " 'notes',\n",
              " 'sh',\n",
              " 'sot',\n",
              " 'dist',\n",
              " 'fk',\n",
              " 'pk',\n",
              " 'pkatt',\n",
              " 'season',\n",
              " 'team']"
            ]
          },
          "metadata": {},
          "execution_count": 11
        }
      ]
    },
    {
      "cell_type": "code",
      "source": [
        "df.head(3)"
      ],
      "metadata": {
        "id": "s1cfktl1j9h7",
        "colab": {
          "base_uri": "https://localhost:8080/"
        },
        "outputId": "14a257e4-ffde-4f9c-a4c2-407e012ace4c"
      },
      "execution_count": 12,
      "outputs": [
        {
          "output_type": "execute_result",
          "data": {
            "text/plain": [
              "[Row(_c0=1, date=datetime.date(2023, 8, 11), time=datetime.datetime(2024, 6, 9, 20, 0), comp='Premier League', round='Matchweek 1', day='Fri', venue='Away', result='W', gf=3, ga=0, opponent='Burnley', xg=1.9, xga=0.3, poss=65.0, attendance=21572.0, captain='Kevin De Bruyne', formation='4-2-3-1', referee='Craig Pawson', match report='Match Report', notes=None, sh=17.0, sot=8.0, dist=13.9, fk=0.0, pk=0, pkatt=0, season=2024, team='Manchester City'),\n",
              " Row(_c0=3, date=datetime.date(2023, 8, 19), time=datetime.datetime(2024, 6, 9, 20, 0), comp='Premier League', round='Matchweek 2', day='Sat', venue='Home', result='W', gf=1, ga=0, opponent='Newcastle Utd', xg=1.0, xga=0.3, poss=59.0, attendance=53419.0, captain='Kyle Walker', formation='4-2-3-1', referee='Robert Jones', match report='Match Report', notes=None, sh=14.0, sot=4.0, dist=17.9, fk=0.0, pk=0, pkatt=0, season=2024, team='Manchester City'),\n",
              " Row(_c0=4, date=datetime.date(2023, 8, 27), time=datetime.datetime(2024, 6, 9, 14, 0), comp='Premier League', round='Matchweek 3', day='Sun', venue='Away', result='W', gf=2, ga=1, opponent='Sheffield Utd', xg=3.5, xga=0.7, poss=79.0, attendance=31336.0, captain='Kyle Walker', formation='4-2-3-1', referee='Jarred Gillett', match report='Match Report', notes=None, sh=29.0, sot=9.0, dist=17.3, fk=2.0, pk=0, pkatt=1, season=2024, team='Manchester City')]"
            ]
          },
          "metadata": {},
          "execution_count": 12
        }
      ]
    },
    {
      "cell_type": "code",
      "source": [
        "df.select('team').show()"
      ],
      "metadata": {
        "id": "MAzG87V-kDLc",
        "colab": {
          "base_uri": "https://localhost:8080/"
        },
        "outputId": "c2e9726f-e75e-4023-b96b-cbdad3f10082"
      },
      "execution_count": 13,
      "outputs": [
        {
          "output_type": "stream",
          "name": "stdout",
          "text": [
            "+---------------+\n",
            "|           team|\n",
            "+---------------+\n",
            "|Manchester City|\n",
            "|Manchester City|\n",
            "|Manchester City|\n",
            "|Manchester City|\n",
            "|Manchester City|\n",
            "|Manchester City|\n",
            "|Manchester City|\n",
            "|Manchester City|\n",
            "|Manchester City|\n",
            "|Manchester City|\n",
            "|Manchester City|\n",
            "|Manchester City|\n",
            "|Manchester City|\n",
            "|Manchester City|\n",
            "|Manchester City|\n",
            "|Manchester City|\n",
            "|Manchester City|\n",
            "|Manchester City|\n",
            "|Manchester City|\n",
            "|Manchester City|\n",
            "+---------------+\n",
            "only showing top 20 rows\n",
            "\n"
          ]
        }
      ]
    },
    {
      "cell_type": "markdown",
      "source": [
        "**Notice the [] for multiple features**"
      ],
      "metadata": {
        "id": "xYAKSDtFknDE"
      }
    },
    {
      "cell_type": "code",
      "source": [
        "df.select(['team','opponent']).show()"
      ],
      "metadata": {
        "id": "b8Ydp7J3kNsw",
        "colab": {
          "base_uri": "https://localhost:8080/"
        },
        "outputId": "d4d7e89c-87a2-4115-a871-a93e64bd13d8"
      },
      "execution_count": 14,
      "outputs": [
        {
          "output_type": "stream",
          "name": "stdout",
          "text": [
            "+---------------+---------------+\n",
            "|           team|       opponent|\n",
            "+---------------+---------------+\n",
            "|Manchester City|        Burnley|\n",
            "|Manchester City|  Newcastle Utd|\n",
            "|Manchester City|  Sheffield Utd|\n",
            "|Manchester City|         Fulham|\n",
            "|Manchester City|       West Ham|\n",
            "|Manchester City|Nott'ham Forest|\n",
            "|Manchester City|         Wolves|\n",
            "|Manchester City|        Arsenal|\n",
            "|Manchester City|       Brighton|\n",
            "|Manchester City| Manchester Utd|\n",
            "|Manchester City|    Bournemouth|\n",
            "|Manchester City|        Chelsea|\n",
            "|Manchester City|      Liverpool|\n",
            "|Manchester City|      Tottenham|\n",
            "|Manchester City|    Aston Villa|\n",
            "|Manchester City|     Luton Town|\n",
            "|Manchester City| Crystal Palace|\n",
            "|Manchester City|        Everton|\n",
            "|Manchester City|  Sheffield Utd|\n",
            "|Manchester City|  Newcastle Utd|\n",
            "+---------------+---------------+\n",
            "only showing top 20 rows\n",
            "\n"
          ]
        }
      ]
    },
    {
      "cell_type": "code",
      "source": [
        "df.describe()"
      ],
      "metadata": {
        "id": "xNTHMUBIkcWp",
        "colab": {
          "base_uri": "https://localhost:8080/"
        },
        "outputId": "5fbb379d-9ae9-4a54-844f-705d7d11b1a9"
      },
      "execution_count": 15,
      "outputs": [
        {
          "output_type": "execute_result",
          "data": {
            "text/plain": [
              "DataFrame[summary: string, _c0: string, comp: string, round: string, day: string, venue: string, result: string, gf: string, ga: string, opponent: string, xg: string, xga: string, poss: string, attendance: string, captain: string, formation: string, referee: string, match report: string, notes: string, sh: string, sot: string, dist: string, fk: string, pk: string, pkatt: string, season: string, team: string]"
            ]
          },
          "metadata": {},
          "execution_count": 15
        }
      ]
    },
    {
      "cell_type": "code",
      "source": [
        "df.describe().show()"
      ],
      "metadata": {
        "id": "g29j_K1Zk7Fe",
        "colab": {
          "base_uri": "https://localhost:8080/"
        },
        "outputId": "d59ade34-a30c-456a-aad6-c4043920f80b"
      },
      "execution_count": 16,
      "outputs": [
        {
          "output_type": "stream",
          "name": "stdout",
          "text": [
            "+-------+------------------+--------------+-----------+----+-----+------+------------------+------------------+--------+------------------+------------------+------------------+------------------+----------------+---------+---------------+------------+-----+-----------------+------------------+------------------+------------------+-------------------+-------------------+------------------+--------------------+\n",
            "|summary|               _c0|          comp|      round| day|venue|result|                gf|                ga|opponent|                xg|               xga|              poss|        attendance|         captain|formation|        referee|match report|notes|               sh|               sot|              dist|                fk|                 pk|              pkatt|            season|                team|\n",
            "+-------+------------------+--------------+-----------+----+-----+------+------------------+------------------+--------+------------------+------------------+------------------+------------------+----------------+---------+---------------+------------+-----+-----------------+------------------+------------------+------------------+-------------------+-------------------+------------------+--------------------+\n",
            "|  count|              2280|          2280|       2280|2280| 2280|  2280|              2280|              2280|    2280|              2280|              2280|              2280|              2274|            2280|     2280|           2280|        2280|    0|             2280|              2280|              2280|              2280|               2280|               2280|              2280|                2280|\n",
            "|   mean| 23.94780701754386|          NULL|       NULL|NULL| NULL|  NULL|1.4916666666666667|1.4916666666666667|    NULL|1.4368421052631568|1.4368421052631568| 50.00043859649123| 39415.70800351803|            NULL|     NULL|           NULL|        NULL| NULL|12.95438596491228| 4.328947368421052|17.073815789473713|0.4043859649122807|0.11140350877192982| 0.1355263157894737|            2023.0|                NULL|\n",
            "| stddev|14.547448339712913|          NULL|       NULL|NULL| NULL|  NULL|1.3204839198768041|1.3204839198768048|    NULL|0.8485760375034993|0.8485760375034992|12.929263785220762|16609.863068186725|            NULL|     NULL|           NULL|        NULL| NULL|5.707098808131018|2.5085452442624443|2.9157187596396232|0.6336879319223377| 0.3336499577810642|0.36590206528285607|0.8166756961170204|                NULL|\n",
            "|    min|                 0|Premier League|Matchweek 1| Fri| Away|     D|                 0|                 0| Arsenal|               0.0|               0.0|              18.0|            9972.0| Aaron Cresswell|  3-1-4-2| Andre Marriner|Match Report| NULL|              1.0|               0.0|               6.8|               0.0|                  0|                  0|              2022|             Arsenal|\n",
            "|    max|                61|Premier League|Matchweek 9| Wed| Home|     W|                 9|                 9|  Wolves|               7.0|               7.0|              82.0|           75546.0|Łukasz Fabiański|    5-4-1|Tony Harrington|Match Report| NULL|             36.0|              15.0|              39.9|               4.0|                  2|                  2|              2024|Wolverhampton Wan...|\n",
            "+-------+------------------+--------------+-----------+----+-----+------+------------------+------------------+--------+------------------+------------------+------------------+------------------+----------------+---------+---------------+------------+-----+-----------------+------------------+------------------+------------------+-------------------+-------------------+------------------+--------------------+\n",
            "\n"
          ]
        }
      ]
    },
    {
      "cell_type": "code",
      "source": [
        "df = df.withColumn(\"goal_difference\", df['gf']-df['ga'])\n"
      ],
      "metadata": {
        "id": "AL631p5blDHy"
      },
      "execution_count": 17,
      "outputs": []
    },
    {
      "cell_type": "code",
      "source": [
        "df.show()"
      ],
      "metadata": {
        "id": "7ya4E4y5lzXI",
        "colab": {
          "base_uri": "https://localhost:8080/"
        },
        "outputId": "0ef89dcd-6f93-48a9-b295-a31c3cd10954"
      },
      "execution_count": 18,
      "outputs": [
        {
          "output_type": "stream",
          "name": "stdout",
          "text": [
            "+---+----------+-------------------+--------------+------------+---+-----+------+---+---+---------------+---+---+----+----------+---------------+---------+--------------+------------+-----+----+----+----+---+---+-----+------+---------------+---------------+\n",
            "|_c0|      date|               time|          comp|       round|day|venue|result| gf| ga|       opponent| xg|xga|poss|attendance|        captain|formation|       referee|match report|notes|  sh| sot|dist| fk| pk|pkatt|season|           team|goal_difference|\n",
            "+---+----------+-------------------+--------------+------------+---+-----+------+---+---+---------------+---+---+----+----------+---------------+---------+--------------+------------+-----+----+----+----+---+---+-----+------+---------------+---------------+\n",
            "|  1|2023-08-11|2024-06-09 20:00:00|Premier League| Matchweek 1|Fri| Away|     W|  3|  0|        Burnley|1.9|0.3|65.0|   21572.0|Kevin De Bruyne|  4-2-3-1|  Craig Pawson|Match Report| NULL|17.0| 8.0|13.9|0.0|  0|    0|  2024|Manchester City|              3|\n",
            "|  3|2023-08-19|2024-06-09 20:00:00|Premier League| Matchweek 2|Sat| Home|     W|  1|  0|  Newcastle Utd|1.0|0.3|59.0|   53419.0|    Kyle Walker|  4-2-3-1|  Robert Jones|Match Report| NULL|14.0| 4.0|17.9|0.0|  0|    0|  2024|Manchester City|              1|\n",
            "|  4|2023-08-27|2024-06-09 14:00:00|Premier League| Matchweek 3|Sun| Away|     W|  2|  1|  Sheffield Utd|3.5|0.7|79.0|   31336.0|    Kyle Walker|  4-2-3-1|Jarred Gillett|Match Report| NULL|29.0| 9.0|17.3|2.0|  0|    1|  2024|Manchester City|              1|\n",
            "|  5|2023-09-02|2024-06-09 15:00:00|Premier League| Matchweek 4|Sat| Home|     W|  5|  1|         Fulham|2.2|1.4|68.0|   52899.0|    Kyle Walker|  4-2-3-1|Michael Oliver|Match Report| NULL| 6.0| 4.0|14.8|0.0|  1|    1|  2024|Manchester City|              4|\n",
            "|  6|2023-09-16|2024-06-09 15:00:00|Premier League| Matchweek 5|Sat| Away|     W|  3|  1|       West Ham|3.6|0.9|68.0|   62475.0|    Kyle Walker|  4-2-3-1|   Andy Madley|Match Report| NULL|29.0|13.0|16.4|1.0|  0|    0|  2024|Manchester City|              2|\n",
            "|  8|2023-09-23|2024-06-09 15:00:00|Premier League| Matchweek 6|Sat| Home|     W|  2|  0|Nott'ham Forest|1.3|1.0|57.0|   53413.0|    Kyle Walker|  4-2-3-1|Anthony Taylor|Match Report| NULL| 7.0| 4.0|17.2|2.0|  0|    0|  2024|Manchester City|              2|\n",
            "| 10|2023-09-30|2024-06-09 15:00:00|Premier League| Matchweek 7|Sat| Away|     L|  1|  2|         Wolves|0.9|0.4|68.0|   31415.0|    Kyle Walker|  4-2-3-1|  Craig Pawson|Match Report| NULL|23.0| 8.0|19.3|1.0|  0|    0|  2024|Manchester City|             -1|\n",
            "| 12|2023-10-08|2024-06-09 16:30:00|Premier League| Matchweek 8|Sun| Away|     L|  0|  1|        Arsenal|0.5|0.4|51.0|   60233.0|    Kyle Walker|    4-3-3|Michael Oliver|Match Report| NULL| 4.0| 0.0|14.9|0.0|  0|    0|  2024|Manchester City|             -1|\n",
            "| 13|2023-10-21|2024-06-09 15:00:00|Premier League| Matchweek 9|Sat| Home|     W|  2|  1|       Brighton|0.8|0.8|55.0|   53466.0|    Kyle Walker|  3-2-4-1|  Robert Jones|Match Report| NULL|10.0| 5.0|18.8|1.0|  0|    0|  2024|Manchester City|              1|\n",
            "| 15|2023-10-29|2024-06-09 15:30:00|Premier League|Matchweek 10|Sun| Away|     W|  3|  0| Manchester Utd|4.0|0.9|60.0|   73502.0|    Kyle Walker|  4-2-3-1|  Paul Tierney|Match Report| NULL|20.0| 9.0|17.2|2.0|  1|    1|  2024|Manchester City|              3|\n",
            "| 16|2023-11-04|2024-06-09 15:00:00|Premier League|Matchweek 11|Sat| Home|     W|  6|  1|    Bournemouth|1.9|0.9|65.0|   53358.0|    Kyle Walker|    3-4-3|  Craig Pawson|Match Report| NULL|21.0| 8.0|16.4|0.0|  0|    0|  2024|Manchester City|              5|\n",
            "| 18|2023-11-12|2024-06-09 16:30:00|Premier League|Matchweek 12|Sun| Away|     D|  4|  4|        Chelsea|2.9|2.9|55.0|   39532.0|    Kyle Walker|  3-2-4-1|Anthony Taylor|Match Report| NULL|14.0| 9.0|16.6|1.0|  1|    1|  2024|Manchester City|              0|\n",
            "| 19|2023-11-25|2024-06-09 12:30:00|Premier League|Matchweek 13|Sat| Home|     D|  1|  1|      Liverpool|1.3|0.6|59.0|   53289.0|    Kyle Walker|  3-2-4-1|Chris Kavanagh|Match Report| NULL|16.0| 5.0|16.3|1.0|  0|    0|  2024|Manchester City|              0|\n",
            "| 21|2023-12-03|2024-06-09 16:30:00|Premier League|Matchweek 14|Sun| Home|     D|  3|  3|      Tottenham|2.6|0.5|55.0|   53473.0|    Kyle Walker|  3-2-4-1|  Simon Hooper|Match Report| NULL|17.0| 4.0|13.4|0.0|  0|    0|  2024|Manchester City|              0|\n",
            "| 22|2023-12-06|2024-06-09 20:15:00|Premier League|Matchweek 15|Wed| Away|     L|  0|  1|    Aston Villa|0.6|2.3|54.0|   41421.0|    Kyle Walker|  3-2-4-1|   John Brooks|Match Report| NULL| 2.0| 2.0| 7.4|0.0|  0|    0|  2024|Manchester City|             -1|\n",
            "| 23|2023-12-10|2024-06-09 14:00:00|Premier League|Matchweek 16|Sun| Away|     W|  2|  1|     Luton Town|1.6|0.3|65.0|   11047.0|    Kyle Walker|  4-2-3-1|  Tim Robinson|Match Report| NULL|18.0| 6.0|18.7|1.0|  0|    0|  2024|Manchester City|              1|\n",
            "| 25|2023-12-16|2024-06-09 15:00:00|Premier League|Matchweek 17|Sat| Home|     D|  2|  2| Crystal Palace|1.6|1.8|74.0|   53248.0|    Kyle Walker|  4-2-3-1|  Paul Tierney|Match Report| NULL|19.0| 9.0|18.2|0.0|  0|    0|  2024|Manchester City|              0|\n",
            "| 26|2023-12-27|2024-06-09 20:15:00|Premier League|Matchweek 19|Wed| Away|     W|  3|  1|        Everton|2.4|1.0|72.0|   39327.0|    Kyle Walker|  4-2-3-1|   John Brooks|Match Report| NULL|22.0| 8.0|19.5|1.0|  1|    1|  2024|Manchester City|              2|\n",
            "| 27|2023-12-30|2024-06-09 15:00:00|Premier League|Matchweek 20|Sat| Home|     W|  2|  0|  Sheffield Utd|2.2|0.3|80.0|   53108.0|    Kyle Walker|  4-2-3-1|   David Coote|Match Report| NULL|18.0| 4.0|17.4|0.0|  0|    0|  2024|Manchester City|              2|\n",
            "| 29|2024-01-13|2024-06-09 17:30:00|Premier League|Matchweek 21|Sat| Away|     W|  3|  2|  Newcastle Utd|3.0|1.3|72.0|   52190.0|    Kyle Walker|  4-2-3-1|Chris Kavanagh|Match Report| NULL|27.0|11.0|19.3|2.0|  0|    0|  2024|Manchester City|              1|\n",
            "+---+----------+-------------------+--------------+------------+---+-----+------+---+---+---------------+---+---+----+----------+---------------+---------+--------------+------------+-----+----+----+----+---+---+-----+------+---------------+---------------+\n",
            "only showing top 20 rows\n",
            "\n"
          ]
        }
      ]
    },
    {
      "cell_type": "code",
      "source": [
        "df = df.withColumnRenamed('goal_difference','gd')\n",
        "df.show()"
      ],
      "metadata": {
        "id": "Q2mllAJ-mrf4",
        "colab": {
          "base_uri": "https://localhost:8080/"
        },
        "outputId": "a79d5b01-2eb1-4d32-ddaa-dcf62b392b0f"
      },
      "execution_count": 19,
      "outputs": [
        {
          "output_type": "stream",
          "name": "stdout",
          "text": [
            "+---+----------+-------------------+--------------+------------+---+-----+------+---+---+---------------+---+---+----+----------+---------------+---------+--------------+------------+-----+----+----+----+---+---+-----+------+---------------+---+\n",
            "|_c0|      date|               time|          comp|       round|day|venue|result| gf| ga|       opponent| xg|xga|poss|attendance|        captain|formation|       referee|match report|notes|  sh| sot|dist| fk| pk|pkatt|season|           team| gd|\n",
            "+---+----------+-------------------+--------------+------------+---+-----+------+---+---+---------------+---+---+----+----------+---------------+---------+--------------+------------+-----+----+----+----+---+---+-----+------+---------------+---+\n",
            "|  1|2023-08-11|2024-06-09 20:00:00|Premier League| Matchweek 1|Fri| Away|     W|  3|  0|        Burnley|1.9|0.3|65.0|   21572.0|Kevin De Bruyne|  4-2-3-1|  Craig Pawson|Match Report| NULL|17.0| 8.0|13.9|0.0|  0|    0|  2024|Manchester City|  3|\n",
            "|  3|2023-08-19|2024-06-09 20:00:00|Premier League| Matchweek 2|Sat| Home|     W|  1|  0|  Newcastle Utd|1.0|0.3|59.0|   53419.0|    Kyle Walker|  4-2-3-1|  Robert Jones|Match Report| NULL|14.0| 4.0|17.9|0.0|  0|    0|  2024|Manchester City|  1|\n",
            "|  4|2023-08-27|2024-06-09 14:00:00|Premier League| Matchweek 3|Sun| Away|     W|  2|  1|  Sheffield Utd|3.5|0.7|79.0|   31336.0|    Kyle Walker|  4-2-3-1|Jarred Gillett|Match Report| NULL|29.0| 9.0|17.3|2.0|  0|    1|  2024|Manchester City|  1|\n",
            "|  5|2023-09-02|2024-06-09 15:00:00|Premier League| Matchweek 4|Sat| Home|     W|  5|  1|         Fulham|2.2|1.4|68.0|   52899.0|    Kyle Walker|  4-2-3-1|Michael Oliver|Match Report| NULL| 6.0| 4.0|14.8|0.0|  1|    1|  2024|Manchester City|  4|\n",
            "|  6|2023-09-16|2024-06-09 15:00:00|Premier League| Matchweek 5|Sat| Away|     W|  3|  1|       West Ham|3.6|0.9|68.0|   62475.0|    Kyle Walker|  4-2-3-1|   Andy Madley|Match Report| NULL|29.0|13.0|16.4|1.0|  0|    0|  2024|Manchester City|  2|\n",
            "|  8|2023-09-23|2024-06-09 15:00:00|Premier League| Matchweek 6|Sat| Home|     W|  2|  0|Nott'ham Forest|1.3|1.0|57.0|   53413.0|    Kyle Walker|  4-2-3-1|Anthony Taylor|Match Report| NULL| 7.0| 4.0|17.2|2.0|  0|    0|  2024|Manchester City|  2|\n",
            "| 10|2023-09-30|2024-06-09 15:00:00|Premier League| Matchweek 7|Sat| Away|     L|  1|  2|         Wolves|0.9|0.4|68.0|   31415.0|    Kyle Walker|  4-2-3-1|  Craig Pawson|Match Report| NULL|23.0| 8.0|19.3|1.0|  0|    0|  2024|Manchester City| -1|\n",
            "| 12|2023-10-08|2024-06-09 16:30:00|Premier League| Matchweek 8|Sun| Away|     L|  0|  1|        Arsenal|0.5|0.4|51.0|   60233.0|    Kyle Walker|    4-3-3|Michael Oliver|Match Report| NULL| 4.0| 0.0|14.9|0.0|  0|    0|  2024|Manchester City| -1|\n",
            "| 13|2023-10-21|2024-06-09 15:00:00|Premier League| Matchweek 9|Sat| Home|     W|  2|  1|       Brighton|0.8|0.8|55.0|   53466.0|    Kyle Walker|  3-2-4-1|  Robert Jones|Match Report| NULL|10.0| 5.0|18.8|1.0|  0|    0|  2024|Manchester City|  1|\n",
            "| 15|2023-10-29|2024-06-09 15:30:00|Premier League|Matchweek 10|Sun| Away|     W|  3|  0| Manchester Utd|4.0|0.9|60.0|   73502.0|    Kyle Walker|  4-2-3-1|  Paul Tierney|Match Report| NULL|20.0| 9.0|17.2|2.0|  1|    1|  2024|Manchester City|  3|\n",
            "| 16|2023-11-04|2024-06-09 15:00:00|Premier League|Matchweek 11|Sat| Home|     W|  6|  1|    Bournemouth|1.9|0.9|65.0|   53358.0|    Kyle Walker|    3-4-3|  Craig Pawson|Match Report| NULL|21.0| 8.0|16.4|0.0|  0|    0|  2024|Manchester City|  5|\n",
            "| 18|2023-11-12|2024-06-09 16:30:00|Premier League|Matchweek 12|Sun| Away|     D|  4|  4|        Chelsea|2.9|2.9|55.0|   39532.0|    Kyle Walker|  3-2-4-1|Anthony Taylor|Match Report| NULL|14.0| 9.0|16.6|1.0|  1|    1|  2024|Manchester City|  0|\n",
            "| 19|2023-11-25|2024-06-09 12:30:00|Premier League|Matchweek 13|Sat| Home|     D|  1|  1|      Liverpool|1.3|0.6|59.0|   53289.0|    Kyle Walker|  3-2-4-1|Chris Kavanagh|Match Report| NULL|16.0| 5.0|16.3|1.0|  0|    0|  2024|Manchester City|  0|\n",
            "| 21|2023-12-03|2024-06-09 16:30:00|Premier League|Matchweek 14|Sun| Home|     D|  3|  3|      Tottenham|2.6|0.5|55.0|   53473.0|    Kyle Walker|  3-2-4-1|  Simon Hooper|Match Report| NULL|17.0| 4.0|13.4|0.0|  0|    0|  2024|Manchester City|  0|\n",
            "| 22|2023-12-06|2024-06-09 20:15:00|Premier League|Matchweek 15|Wed| Away|     L|  0|  1|    Aston Villa|0.6|2.3|54.0|   41421.0|    Kyle Walker|  3-2-4-1|   John Brooks|Match Report| NULL| 2.0| 2.0| 7.4|0.0|  0|    0|  2024|Manchester City| -1|\n",
            "| 23|2023-12-10|2024-06-09 14:00:00|Premier League|Matchweek 16|Sun| Away|     W|  2|  1|     Luton Town|1.6|0.3|65.0|   11047.0|    Kyle Walker|  4-2-3-1|  Tim Robinson|Match Report| NULL|18.0| 6.0|18.7|1.0|  0|    0|  2024|Manchester City|  1|\n",
            "| 25|2023-12-16|2024-06-09 15:00:00|Premier League|Matchweek 17|Sat| Home|     D|  2|  2| Crystal Palace|1.6|1.8|74.0|   53248.0|    Kyle Walker|  4-2-3-1|  Paul Tierney|Match Report| NULL|19.0| 9.0|18.2|0.0|  0|    0|  2024|Manchester City|  0|\n",
            "| 26|2023-12-27|2024-06-09 20:15:00|Premier League|Matchweek 19|Wed| Away|     W|  3|  1|        Everton|2.4|1.0|72.0|   39327.0|    Kyle Walker|  4-2-3-1|   John Brooks|Match Report| NULL|22.0| 8.0|19.5|1.0|  1|    1|  2024|Manchester City|  2|\n",
            "| 27|2023-12-30|2024-06-09 15:00:00|Premier League|Matchweek 20|Sat| Home|     W|  2|  0|  Sheffield Utd|2.2|0.3|80.0|   53108.0|    Kyle Walker|  4-2-3-1|   David Coote|Match Report| NULL|18.0| 4.0|17.4|0.0|  0|    0|  2024|Manchester City|  2|\n",
            "| 29|2024-01-13|2024-06-09 17:30:00|Premier League|Matchweek 21|Sat| Away|     W|  3|  2|  Newcastle Utd|3.0|1.3|72.0|   52190.0|    Kyle Walker|  4-2-3-1|Chris Kavanagh|Match Report| NULL|27.0|11.0|19.3|2.0|  0|    0|  2024|Manchester City|  1|\n",
            "+---+----------+-------------------+--------------+------------+---+-----+------+---+---+---------------+---+---+----+----------+---------------+---------+--------------+------------+-----+----+----+----+---+---+-----+------+---------------+---+\n",
            "only showing top 20 rows\n",
            "\n"
          ]
        }
      ]
    },
    {
      "cell_type": "code",
      "source": [
        "df = df.drop('gd')\n",
        "df.show()"
      ],
      "metadata": {
        "id": "ZKmtqUcfl-E9",
        "colab": {
          "base_uri": "https://localhost:8080/"
        },
        "outputId": "f81aa252-56c6-466f-8da5-77733c843cf2"
      },
      "execution_count": 20,
      "outputs": [
        {
          "output_type": "stream",
          "name": "stdout",
          "text": [
            "+---+----------+-------------------+--------------+------------+---+-----+------+---+---+---------------+---+---+----+----------+---------------+---------+--------------+------------+-----+----+----+----+---+---+-----+------+---------------+\n",
            "|_c0|      date|               time|          comp|       round|day|venue|result| gf| ga|       opponent| xg|xga|poss|attendance|        captain|formation|       referee|match report|notes|  sh| sot|dist| fk| pk|pkatt|season|           team|\n",
            "+---+----------+-------------------+--------------+------------+---+-----+------+---+---+---------------+---+---+----+----------+---------------+---------+--------------+------------+-----+----+----+----+---+---+-----+------+---------------+\n",
            "|  1|2023-08-11|2024-06-09 20:00:00|Premier League| Matchweek 1|Fri| Away|     W|  3|  0|        Burnley|1.9|0.3|65.0|   21572.0|Kevin De Bruyne|  4-2-3-1|  Craig Pawson|Match Report| NULL|17.0| 8.0|13.9|0.0|  0|    0|  2024|Manchester City|\n",
            "|  3|2023-08-19|2024-06-09 20:00:00|Premier League| Matchweek 2|Sat| Home|     W|  1|  0|  Newcastle Utd|1.0|0.3|59.0|   53419.0|    Kyle Walker|  4-2-3-1|  Robert Jones|Match Report| NULL|14.0| 4.0|17.9|0.0|  0|    0|  2024|Manchester City|\n",
            "|  4|2023-08-27|2024-06-09 14:00:00|Premier League| Matchweek 3|Sun| Away|     W|  2|  1|  Sheffield Utd|3.5|0.7|79.0|   31336.0|    Kyle Walker|  4-2-3-1|Jarred Gillett|Match Report| NULL|29.0| 9.0|17.3|2.0|  0|    1|  2024|Manchester City|\n",
            "|  5|2023-09-02|2024-06-09 15:00:00|Premier League| Matchweek 4|Sat| Home|     W|  5|  1|         Fulham|2.2|1.4|68.0|   52899.0|    Kyle Walker|  4-2-3-1|Michael Oliver|Match Report| NULL| 6.0| 4.0|14.8|0.0|  1|    1|  2024|Manchester City|\n",
            "|  6|2023-09-16|2024-06-09 15:00:00|Premier League| Matchweek 5|Sat| Away|     W|  3|  1|       West Ham|3.6|0.9|68.0|   62475.0|    Kyle Walker|  4-2-3-1|   Andy Madley|Match Report| NULL|29.0|13.0|16.4|1.0|  0|    0|  2024|Manchester City|\n",
            "|  8|2023-09-23|2024-06-09 15:00:00|Premier League| Matchweek 6|Sat| Home|     W|  2|  0|Nott'ham Forest|1.3|1.0|57.0|   53413.0|    Kyle Walker|  4-2-3-1|Anthony Taylor|Match Report| NULL| 7.0| 4.0|17.2|2.0|  0|    0|  2024|Manchester City|\n",
            "| 10|2023-09-30|2024-06-09 15:00:00|Premier League| Matchweek 7|Sat| Away|     L|  1|  2|         Wolves|0.9|0.4|68.0|   31415.0|    Kyle Walker|  4-2-3-1|  Craig Pawson|Match Report| NULL|23.0| 8.0|19.3|1.0|  0|    0|  2024|Manchester City|\n",
            "| 12|2023-10-08|2024-06-09 16:30:00|Premier League| Matchweek 8|Sun| Away|     L|  0|  1|        Arsenal|0.5|0.4|51.0|   60233.0|    Kyle Walker|    4-3-3|Michael Oliver|Match Report| NULL| 4.0| 0.0|14.9|0.0|  0|    0|  2024|Manchester City|\n",
            "| 13|2023-10-21|2024-06-09 15:00:00|Premier League| Matchweek 9|Sat| Home|     W|  2|  1|       Brighton|0.8|0.8|55.0|   53466.0|    Kyle Walker|  3-2-4-1|  Robert Jones|Match Report| NULL|10.0| 5.0|18.8|1.0|  0|    0|  2024|Manchester City|\n",
            "| 15|2023-10-29|2024-06-09 15:30:00|Premier League|Matchweek 10|Sun| Away|     W|  3|  0| Manchester Utd|4.0|0.9|60.0|   73502.0|    Kyle Walker|  4-2-3-1|  Paul Tierney|Match Report| NULL|20.0| 9.0|17.2|2.0|  1|    1|  2024|Manchester City|\n",
            "| 16|2023-11-04|2024-06-09 15:00:00|Premier League|Matchweek 11|Sat| Home|     W|  6|  1|    Bournemouth|1.9|0.9|65.0|   53358.0|    Kyle Walker|    3-4-3|  Craig Pawson|Match Report| NULL|21.0| 8.0|16.4|0.0|  0|    0|  2024|Manchester City|\n",
            "| 18|2023-11-12|2024-06-09 16:30:00|Premier League|Matchweek 12|Sun| Away|     D|  4|  4|        Chelsea|2.9|2.9|55.0|   39532.0|    Kyle Walker|  3-2-4-1|Anthony Taylor|Match Report| NULL|14.0| 9.0|16.6|1.0|  1|    1|  2024|Manchester City|\n",
            "| 19|2023-11-25|2024-06-09 12:30:00|Premier League|Matchweek 13|Sat| Home|     D|  1|  1|      Liverpool|1.3|0.6|59.0|   53289.0|    Kyle Walker|  3-2-4-1|Chris Kavanagh|Match Report| NULL|16.0| 5.0|16.3|1.0|  0|    0|  2024|Manchester City|\n",
            "| 21|2023-12-03|2024-06-09 16:30:00|Premier League|Matchweek 14|Sun| Home|     D|  3|  3|      Tottenham|2.6|0.5|55.0|   53473.0|    Kyle Walker|  3-2-4-1|  Simon Hooper|Match Report| NULL|17.0| 4.0|13.4|0.0|  0|    0|  2024|Manchester City|\n",
            "| 22|2023-12-06|2024-06-09 20:15:00|Premier League|Matchweek 15|Wed| Away|     L|  0|  1|    Aston Villa|0.6|2.3|54.0|   41421.0|    Kyle Walker|  3-2-4-1|   John Brooks|Match Report| NULL| 2.0| 2.0| 7.4|0.0|  0|    0|  2024|Manchester City|\n",
            "| 23|2023-12-10|2024-06-09 14:00:00|Premier League|Matchweek 16|Sun| Away|     W|  2|  1|     Luton Town|1.6|0.3|65.0|   11047.0|    Kyle Walker|  4-2-3-1|  Tim Robinson|Match Report| NULL|18.0| 6.0|18.7|1.0|  0|    0|  2024|Manchester City|\n",
            "| 25|2023-12-16|2024-06-09 15:00:00|Premier League|Matchweek 17|Sat| Home|     D|  2|  2| Crystal Palace|1.6|1.8|74.0|   53248.0|    Kyle Walker|  4-2-3-1|  Paul Tierney|Match Report| NULL|19.0| 9.0|18.2|0.0|  0|    0|  2024|Manchester City|\n",
            "| 26|2023-12-27|2024-06-09 20:15:00|Premier League|Matchweek 19|Wed| Away|     W|  3|  1|        Everton|2.4|1.0|72.0|   39327.0|    Kyle Walker|  4-2-3-1|   John Brooks|Match Report| NULL|22.0| 8.0|19.5|1.0|  1|    1|  2024|Manchester City|\n",
            "| 27|2023-12-30|2024-06-09 15:00:00|Premier League|Matchweek 20|Sat| Home|     W|  2|  0|  Sheffield Utd|2.2|0.3|80.0|   53108.0|    Kyle Walker|  4-2-3-1|   David Coote|Match Report| NULL|18.0| 4.0|17.4|0.0|  0|    0|  2024|Manchester City|\n",
            "| 29|2024-01-13|2024-06-09 17:30:00|Premier League|Matchweek 21|Sat| Away|     W|  3|  2|  Newcastle Utd|3.0|1.3|72.0|   52190.0|    Kyle Walker|  4-2-3-1|Chris Kavanagh|Match Report| NULL|27.0|11.0|19.3|2.0|  0|    0|  2024|Manchester City|\n",
            "+---+----------+-------------------+--------------+------------+---+-----+------+---+---+---------------+---+---+----+----------+---------------+---------+--------------+------------+-----+----+----+----+---+---+-----+------+---------------+\n",
            "only showing top 20 rows\n",
            "\n"
          ]
        }
      ]
    },
    {
      "cell_type": "code",
      "source": [
        "df = spark.read.csv(\"/content/matches.csv\", header= True, inferSchema=True)"
      ],
      "metadata": {
        "id": "tQlSQFNuqgoF"
      },
      "execution_count": 21,
      "outputs": []
    },
    {
      "cell_type": "markdown",
      "source": [
        "**There is no nulls actually**"
      ],
      "metadata": {
        "id": "IoEm4DROqqXt"
      }
    },
    {
      "cell_type": "code",
      "source": [
        "# this drops any row which has a null value\n",
        "df.na.drop().show() #equivalent of how='any'\n",
        "\n",
        "#this drops only if the whole row is null\n",
        "df.na.drop(how='all')\n",
        "\n",
        "#this drops any rows which do not have data in at least [threshold] cells\n",
        "df.na.drop(how='any',thresh=2)\n",
        "\n",
        "#this will drop any rows which have the team cell null\n",
        "df.na.drop(how='any',subset=['team'])\n"
      ],
      "metadata": {
        "id": "yZ0v2GfhmeMM",
        "colab": {
          "base_uri": "https://localhost:8080/"
        },
        "outputId": "98c0b76f-6ffb-4082-a881-99a1a8253df7"
      },
      "execution_count": 22,
      "outputs": [
        {
          "output_type": "stream",
          "name": "stdout",
          "text": [
            "+---+----+----+----+-----+---+-----+------+---+---+--------+---+---+----+----------+-------+---------+-------+------------+-----+---+---+----+---+---+-----+------+----+\n",
            "|_c0|date|time|comp|round|day|venue|result| gf| ga|opponent| xg|xga|poss|attendance|captain|formation|referee|match report|notes| sh|sot|dist| fk| pk|pkatt|season|team|\n",
            "+---+----+----+----+-----+---+-----+------+---+---+--------+---+---+----+----------+-------+---------+-------+------------+-----+---+---+----+---+---+-----+------+----+\n",
            "+---+----+----+----+-----+---+-----+------+---+---+--------+---+---+----+----------+-------+---------+-------+------------+-----+---+---+----+---+---+-----+------+----+\n",
            "\n"
          ]
        },
        {
          "output_type": "execute_result",
          "data": {
            "text/plain": [
              "DataFrame[_c0: int, date: date, time: timestamp, comp: string, round: string, day: string, venue: string, result: string, gf: int, ga: int, opponent: string, xg: double, xga: double, poss: double, attendance: double, captain: string, formation: string, referee: string, match report: string, notes: string, sh: double, sot: double, dist: double, fk: double, pk: int, pkatt: int, season: int, team: string]"
            ]
          },
          "metadata": {},
          "execution_count": 22
        }
      ]
    },
    {
      "cell_type": "code",
      "source": [
        "df.na.fill(\"Missing value\", subset = ['team'])"
      ],
      "metadata": {
        "id": "MhSvVrebqSuq",
        "colab": {
          "base_uri": "https://localhost:8080/"
        },
        "outputId": "1ecaeaac-742d-4ee2-e8d3-f86c351e7bd9"
      },
      "execution_count": 23,
      "outputs": [
        {
          "output_type": "execute_result",
          "data": {
            "text/plain": [
              "DataFrame[_c0: int, date: date, time: timestamp, comp: string, round: string, day: string, venue: string, result: string, gf: int, ga: int, opponent: string, xg: double, xga: double, poss: double, attendance: double, captain: string, formation: string, referee: string, match report: string, notes: string, sh: double, sot: double, dist: double, fk: double, pk: int, pkatt: int, season: int, team: string]"
            ]
          },
          "metadata": {},
          "execution_count": 23
        }
      ]
    },
    {
      "cell_type": "markdown",
      "source": [
        "**This will create new columns of input columns which are the same except, it replaces any null values with the mean it calculates for the column**"
      ],
      "metadata": {
        "id": "rMmgfEXEtvkT"
      }
    },
    {
      "cell_type": "code",
      "source": [
        "from pyspark.ml.feature import Imputer\n",
        "\n",
        "imputer = Imputer(\n",
        "    inputCols = ['sh','sot'],\n",
        "    outputCols = [\"{}_imputed\".format(c) for c in ['sh','sot']]\n",
        ").setStrategy(\"mean\")\n",
        "\n",
        "imputer.fit(df).transform(df).show()"
      ],
      "metadata": {
        "id": "zq9cpPjdsgbV",
        "colab": {
          "base_uri": "https://localhost:8080/"
        },
        "outputId": "edd997cc-f6c1-4cd3-d708-a6942328d98d"
      },
      "execution_count": 24,
      "outputs": [
        {
          "output_type": "stream",
          "name": "stdout",
          "text": [
            "+---+----------+-------------------+--------------+------------+---+-----+------+---+---+---------------+---+---+----+----------+---------------+---------+--------------+------------+-----+----+----+----+---+---+-----+------+---------------+----------+-----------+\n",
            "|_c0|      date|               time|          comp|       round|day|venue|result| gf| ga|       opponent| xg|xga|poss|attendance|        captain|formation|       referee|match report|notes|  sh| sot|dist| fk| pk|pkatt|season|           team|sh_imputed|sot_imputed|\n",
            "+---+----------+-------------------+--------------+------------+---+-----+------+---+---+---------------+---+---+----+----------+---------------+---------+--------------+------------+-----+----+----+----+---+---+-----+------+---------------+----------+-----------+\n",
            "|  1|2023-08-11|2024-06-09 20:00:00|Premier League| Matchweek 1|Fri| Away|     W|  3|  0|        Burnley|1.9|0.3|65.0|   21572.0|Kevin De Bruyne|  4-2-3-1|  Craig Pawson|Match Report| NULL|17.0| 8.0|13.9|0.0|  0|    0|  2024|Manchester City|      17.0|        8.0|\n",
            "|  3|2023-08-19|2024-06-09 20:00:00|Premier League| Matchweek 2|Sat| Home|     W|  1|  0|  Newcastle Utd|1.0|0.3|59.0|   53419.0|    Kyle Walker|  4-2-3-1|  Robert Jones|Match Report| NULL|14.0| 4.0|17.9|0.0|  0|    0|  2024|Manchester City|      14.0|        4.0|\n",
            "|  4|2023-08-27|2024-06-09 14:00:00|Premier League| Matchweek 3|Sun| Away|     W|  2|  1|  Sheffield Utd|3.5|0.7|79.0|   31336.0|    Kyle Walker|  4-2-3-1|Jarred Gillett|Match Report| NULL|29.0| 9.0|17.3|2.0|  0|    1|  2024|Manchester City|      29.0|        9.0|\n",
            "|  5|2023-09-02|2024-06-09 15:00:00|Premier League| Matchweek 4|Sat| Home|     W|  5|  1|         Fulham|2.2|1.4|68.0|   52899.0|    Kyle Walker|  4-2-3-1|Michael Oliver|Match Report| NULL| 6.0| 4.0|14.8|0.0|  1|    1|  2024|Manchester City|       6.0|        4.0|\n",
            "|  6|2023-09-16|2024-06-09 15:00:00|Premier League| Matchweek 5|Sat| Away|     W|  3|  1|       West Ham|3.6|0.9|68.0|   62475.0|    Kyle Walker|  4-2-3-1|   Andy Madley|Match Report| NULL|29.0|13.0|16.4|1.0|  0|    0|  2024|Manchester City|      29.0|       13.0|\n",
            "|  8|2023-09-23|2024-06-09 15:00:00|Premier League| Matchweek 6|Sat| Home|     W|  2|  0|Nott'ham Forest|1.3|1.0|57.0|   53413.0|    Kyle Walker|  4-2-3-1|Anthony Taylor|Match Report| NULL| 7.0| 4.0|17.2|2.0|  0|    0|  2024|Manchester City|       7.0|        4.0|\n",
            "| 10|2023-09-30|2024-06-09 15:00:00|Premier League| Matchweek 7|Sat| Away|     L|  1|  2|         Wolves|0.9|0.4|68.0|   31415.0|    Kyle Walker|  4-2-3-1|  Craig Pawson|Match Report| NULL|23.0| 8.0|19.3|1.0|  0|    0|  2024|Manchester City|      23.0|        8.0|\n",
            "| 12|2023-10-08|2024-06-09 16:30:00|Premier League| Matchweek 8|Sun| Away|     L|  0|  1|        Arsenal|0.5|0.4|51.0|   60233.0|    Kyle Walker|    4-3-3|Michael Oliver|Match Report| NULL| 4.0| 0.0|14.9|0.0|  0|    0|  2024|Manchester City|       4.0|        0.0|\n",
            "| 13|2023-10-21|2024-06-09 15:00:00|Premier League| Matchweek 9|Sat| Home|     W|  2|  1|       Brighton|0.8|0.8|55.0|   53466.0|    Kyle Walker|  3-2-4-1|  Robert Jones|Match Report| NULL|10.0| 5.0|18.8|1.0|  0|    0|  2024|Manchester City|      10.0|        5.0|\n",
            "| 15|2023-10-29|2024-06-09 15:30:00|Premier League|Matchweek 10|Sun| Away|     W|  3|  0| Manchester Utd|4.0|0.9|60.0|   73502.0|    Kyle Walker|  4-2-3-1|  Paul Tierney|Match Report| NULL|20.0| 9.0|17.2|2.0|  1|    1|  2024|Manchester City|      20.0|        9.0|\n",
            "| 16|2023-11-04|2024-06-09 15:00:00|Premier League|Matchweek 11|Sat| Home|     W|  6|  1|    Bournemouth|1.9|0.9|65.0|   53358.0|    Kyle Walker|    3-4-3|  Craig Pawson|Match Report| NULL|21.0| 8.0|16.4|0.0|  0|    0|  2024|Manchester City|      21.0|        8.0|\n",
            "| 18|2023-11-12|2024-06-09 16:30:00|Premier League|Matchweek 12|Sun| Away|     D|  4|  4|        Chelsea|2.9|2.9|55.0|   39532.0|    Kyle Walker|  3-2-4-1|Anthony Taylor|Match Report| NULL|14.0| 9.0|16.6|1.0|  1|    1|  2024|Manchester City|      14.0|        9.0|\n",
            "| 19|2023-11-25|2024-06-09 12:30:00|Premier League|Matchweek 13|Sat| Home|     D|  1|  1|      Liverpool|1.3|0.6|59.0|   53289.0|    Kyle Walker|  3-2-4-1|Chris Kavanagh|Match Report| NULL|16.0| 5.0|16.3|1.0|  0|    0|  2024|Manchester City|      16.0|        5.0|\n",
            "| 21|2023-12-03|2024-06-09 16:30:00|Premier League|Matchweek 14|Sun| Home|     D|  3|  3|      Tottenham|2.6|0.5|55.0|   53473.0|    Kyle Walker|  3-2-4-1|  Simon Hooper|Match Report| NULL|17.0| 4.0|13.4|0.0|  0|    0|  2024|Manchester City|      17.0|        4.0|\n",
            "| 22|2023-12-06|2024-06-09 20:15:00|Premier League|Matchweek 15|Wed| Away|     L|  0|  1|    Aston Villa|0.6|2.3|54.0|   41421.0|    Kyle Walker|  3-2-4-1|   John Brooks|Match Report| NULL| 2.0| 2.0| 7.4|0.0|  0|    0|  2024|Manchester City|       2.0|        2.0|\n",
            "| 23|2023-12-10|2024-06-09 14:00:00|Premier League|Matchweek 16|Sun| Away|     W|  2|  1|     Luton Town|1.6|0.3|65.0|   11047.0|    Kyle Walker|  4-2-3-1|  Tim Robinson|Match Report| NULL|18.0| 6.0|18.7|1.0|  0|    0|  2024|Manchester City|      18.0|        6.0|\n",
            "| 25|2023-12-16|2024-06-09 15:00:00|Premier League|Matchweek 17|Sat| Home|     D|  2|  2| Crystal Palace|1.6|1.8|74.0|   53248.0|    Kyle Walker|  4-2-3-1|  Paul Tierney|Match Report| NULL|19.0| 9.0|18.2|0.0|  0|    0|  2024|Manchester City|      19.0|        9.0|\n",
            "| 26|2023-12-27|2024-06-09 20:15:00|Premier League|Matchweek 19|Wed| Away|     W|  3|  1|        Everton|2.4|1.0|72.0|   39327.0|    Kyle Walker|  4-2-3-1|   John Brooks|Match Report| NULL|22.0| 8.0|19.5|1.0|  1|    1|  2024|Manchester City|      22.0|        8.0|\n",
            "| 27|2023-12-30|2024-06-09 15:00:00|Premier League|Matchweek 20|Sat| Home|     W|  2|  0|  Sheffield Utd|2.2|0.3|80.0|   53108.0|    Kyle Walker|  4-2-3-1|   David Coote|Match Report| NULL|18.0| 4.0|17.4|0.0|  0|    0|  2024|Manchester City|      18.0|        4.0|\n",
            "| 29|2024-01-13|2024-06-09 17:30:00|Premier League|Matchweek 21|Sat| Away|     W|  3|  2|  Newcastle Utd|3.0|1.3|72.0|   52190.0|    Kyle Walker|  4-2-3-1|Chris Kavanagh|Match Report| NULL|27.0|11.0|19.3|2.0|  0|    0|  2024|Manchester City|      27.0|       11.0|\n",
            "+---+----------+-------------------+--------------+------------+---+-----+------+---+---+---------------+---+---+----+----------+---------------+---------+--------------+------------+-----+----+----+----+---+---+-----+------+---------------+----------+-----------+\n",
            "only showing top 20 rows\n",
            "\n"
          ]
        }
      ]
    },
    {
      "cell_type": "code",
      "source": [
        "#df.filter(\"gf>5\").select(['team','opponent']).show()\n",
        "df.filter(df['gf']>5).select(['date' , 'team','gf' , 'ga' , 'opponent']).show()\n",
        "\n",
        "#both work the same"
      ],
      "metadata": {
        "id": "PqHBOr7buVj9",
        "colab": {
          "base_uri": "https://localhost:8080/"
        },
        "outputId": "ae376a88-fd61-44d0-c0be-e3a44efd68fc"
      },
      "execution_count": 25,
      "outputs": [
        {
          "output_type": "stream",
          "name": "stdout",
          "text": [
            "+----------+--------------------+---+---+---------------+\n",
            "|      date|                team| gf| ga|       opponent|\n",
            "+----------+--------------------+---+---+---------------+\n",
            "|2023-11-04|     Manchester City|  6|  1|    Bournemouth|\n",
            "|2024-02-11|             Arsenal|  6|  0|       West Ham|\n",
            "|2024-03-04|             Arsenal|  6|  0|  Sheffield Utd|\n",
            "|2023-09-30|         Aston Villa|  6|  1|       Brighton|\n",
            "|2024-04-15|             Chelsea|  6|  0|        Everton|\n",
            "|2023-09-24|    Newcastle United|  8|  0|  Sheffield Utd|\n",
            "|2022-08-31|     Manchester City|  6|  0|Nott'ham Forest|\n",
            "|2022-10-02|     Manchester City|  6|  3| Manchester Utd|\n",
            "|2023-04-23|    Newcastle United|  6|  1|      Tottenham|\n",
            "|2022-08-27|           Liverpool|  9|  0|    Bournemouth|\n",
            "|2023-03-05|           Liverpool|  7|  0| Manchester Utd|\n",
            "|2023-04-17|           Liverpool|  6|  1|   Leeds United|\n",
            "|2023-04-29|Brighton and Hove...|  6|  0|         Wolves|\n",
            "|2022-09-17|   Tottenham Hotspur|  6|  2| Leicester City|\n",
            "|2021-12-14|     Manchester City|  7|  0|   Leeds United|\n",
            "|2021-12-26|     Manchester City|  6|  3| Leicester City|\n",
            "|2022-02-23|           Liverpool|  6|  0|   Leeds United|\n",
            "|2021-10-23|             Chelsea|  7|  0|   Norwich City|\n",
            "|2022-04-09|             Chelsea|  6|  0|    Southampton|\n",
            "+----------+--------------------+---+---+---------------+\n",
            "\n"
          ]
        }
      ]
    },
    {
      "cell_type": "markdown",
      "source": [
        "**Exciting matches with lots of goals**"
      ],
      "metadata": {
        "id": "1SmWyWjd6Rbz"
      }
    },
    {
      "cell_type": "code",
      "source": [
        "df.filter((df['gf']>=5) & (df['ga']>=3)).select(['team','gf','ga','opponent','date']).show()\n"
      ],
      "metadata": {
        "id": "OHi3EnIJz4yi",
        "colab": {
          "base_uri": "https://localhost:8080/"
        },
        "outputId": "375babc3-deb9-448d-eb14-a8aef33f143d"
      },
      "execution_count": 26,
      "outputs": [
        {
          "output_type": "stream",
          "name": "stdout",
          "text": [
            "+---------------+---+---+--------------+----------+\n",
            "|           team| gf| ga|      opponent|      date|\n",
            "+---------------+---+---+--------------+----------+\n",
            "|Manchester City|  6|  3|Manchester Utd|2022-10-02|\n",
            "|         Fulham|  5|  3|Leicester City|2023-05-08|\n",
            "|Manchester City|  6|  3|Leicester City|2021-12-26|\n",
            "+---------------+---+---+--------------+----------+\n",
            "\n"
          ]
        }
      ]
    },
    {
      "cell_type": "code",
      "source": [
        "df.filter(df['gf'] + df['ga'] >=8).select(['team','gf','ga','opponent','date']).show()\n"
      ],
      "metadata": {
        "id": "GJhWB90T6l8n",
        "colab": {
          "base_uri": "https://localhost:8080/"
        },
        "outputId": "22bee409-5605-4563-e7e5-47683db3910d"
      },
      "execution_count": 27,
      "outputs": [
        {
          "output_type": "stream",
          "name": "stdout",
          "text": [
            "+-----------------+---+---+---------------+----------+\n",
            "|             team| gf| ga|       opponent|      date|\n",
            "+-----------------+---+---+---------------+----------+\n",
            "|  Manchester City|  4|  4|        Chelsea|2023-11-12|\n",
            "|          Chelsea|  4|  4|Manchester City|2023-11-12|\n",
            "| Newcastle United|  8|  0|  Sheffield Utd|2023-09-24|\n",
            "| Newcastle United|  4|  4|     Luton Town|2024-02-03|\n",
            "|       Luton Town|  4|  4|  Newcastle Utd|2024-02-03|\n",
            "| Sheffield United|  0|  8|  Newcastle Utd|2023-09-24|\n",
            "|  Manchester City|  6|  3| Manchester Utd|2022-10-02|\n",
            "|Manchester United|  3|  6|Manchester City|2022-10-02|\n",
            "|        Liverpool|  9|  0|    Bournemouth|2022-08-27|\n",
            "|        Liverpool|  4|  4|    Southampton|2023-05-28|\n",
            "|Tottenham Hotspur|  6|  2| Leicester City|2022-09-17|\n",
            "|           Fulham|  5|  3| Leicester City|2023-05-08|\n",
            "|      Bournemouth|  0|  9|      Liverpool|2022-08-27|\n",
            "|   Leicester City|  2|  6|      Tottenham|2022-09-17|\n",
            "|   Leicester City|  3|  5|         Fulham|2023-05-08|\n",
            "|      Southampton|  4|  4|      Liverpool|2023-05-28|\n",
            "|  Manchester City|  6|  3| Leicester City|2021-12-26|\n",
            "|   Leicester City|  3|  6|Manchester City|2021-12-26|\n",
            "+-----------------+---+---+---------------+----------+\n",
            "\n"
          ]
        }
      ]
    },
    {
      "cell_type": "markdown",
      "source": [
        "Most attended matches"
      ],
      "metadata": {
        "id": "peOnNfz5XGsl"
      }
    },
    {
      "cell_type": "code",
      "source": [
        "df.orderBy(col('attendance').desc()).limit(20).select(['date','round', 'team','gf','ga','opponent','attendance']).show()"
      ],
      "metadata": {
        "id": "lgt1w8z5XFRT",
        "colab": {
          "base_uri": "https://localhost:8080/"
        },
        "outputId": "d99f3f3e-f33c-44a3-e605-fbc9132c2841"
      },
      "execution_count": 28,
      "outputs": [
        {
          "output_type": "stream",
          "name": "stdout",
          "text": [
            "+----------+------------+--------------------+---+---+---------------+----------+\n",
            "|      date|       round|                team| gf| ga|       opponent|attendance|\n",
            "+----------+------------+--------------------+---+---+---------------+----------+\n",
            "|2023-01-14|Matchweek 20|   Manchester United|  2|  1|Manchester City|   75546.0|\n",
            "|2023-01-14|Matchweek 20|     Manchester City|  1|  2| Manchester Utd|   75546.0|\n",
            "|2022-08-22| Matchweek 3|   Manchester United|  2|  1|      Liverpool|   74147.0|\n",
            "|2022-08-22| Matchweek 3|           Liverpool|  1|  2| Manchester Utd|   74147.0|\n",
            "|2022-10-16|Matchweek 11|    Newcastle United|  0|  0| Manchester Utd|   73726.0|\n",
            "|2022-10-16|Matchweek 11|   Manchester United|  0|  0|  Newcastle Utd|   73726.0|\n",
            "|2022-08-07| Matchweek 1|   Manchester United|  1|  2|       Brighton|   73711.0|\n",
            "|2022-08-07| Matchweek 1|Brighton and Hove...|  2|  1| Manchester Utd|   73711.0|\n",
            "|2022-10-30|Matchweek 14|   Manchester United|  1|  0|       West Ham|   73682.0|\n",
            "|2022-10-30|Matchweek 14|     West Ham United|  0|  1| Manchester Utd|   73682.0|\n",
            "|2022-10-19|Matchweek 12|   Manchester United|  2|  0|      Tottenham|   73677.0|\n",
            "|2022-10-19|Matchweek 12|   Tottenham Hotspur|  0|  2| Manchester Utd|   73677.0|\n",
            "|2024-02-04|Matchweek 23|     West Ham United|  0|  3| Manchester Utd|   73612.0|\n",
            "|2024-02-04|Matchweek 23|   Manchester United|  3|  0|       West Ham|   73612.0|\n",
            "|2022-12-27|Matchweek 17|   Manchester United|  3|  0|Nott'ham Forest|   73608.0|\n",
            "|2022-12-27|Matchweek 17|   Nottingham Forest|  0|  3| Manchester Utd|   73608.0|\n",
            "|2023-12-06|Matchweek 15|   Manchester United|  2|  1|        Chelsea|   73607.0|\n",
            "|2023-12-06|Matchweek 15|             Chelsea|  1|  2| Manchester Utd|   73607.0|\n",
            "|2024-03-09|Matchweek 28|             Everton|  0|  2| Manchester Utd|   73601.0|\n",
            "|2024-03-09|Matchweek 28|   Manchester United|  2|  0|        Everton|   73601.0|\n",
            "+----------+------------+--------------------+---+---+---------------+----------+\n",
            "\n"
          ]
        }
      ]
    },
    {
      "cell_type": "code",
      "source": [
        "filtered_df = df.filter((col('team') == 'Liverpool') & (col('opponent') == 'Wolves'))\n",
        "\n",
        "# Select the 'attendance' column and show the result\n",
        "filtered_df.select('date','attendance').show()"
      ],
      "metadata": {
        "id": "tqez7o6PYkzC",
        "colab": {
          "base_uri": "https://localhost:8080/"
        },
        "outputId": "e308a879-5889-488d-e9c6-4af4bc93e03b"
      },
      "execution_count": 29,
      "outputs": [
        {
          "output_type": "stream",
          "name": "stdout",
          "text": [
            "+----------+----------+\n",
            "|      date|attendance|\n",
            "+----------+----------+\n",
            "|2023-09-16|   31257.0|\n",
            "|2024-05-19|   60059.0|\n",
            "|2023-02-04|   31664.0|\n",
            "|2023-03-01|   53259.0|\n",
            "|2021-12-04|   30729.0|\n",
            "|2022-05-22|   53097.0|\n",
            "+----------+----------+\n",
            "\n"
          ]
        }
      ]
    },
    {
      "cell_type": "markdown",
      "source": [
        "**Sum of goals per team**"
      ],
      "metadata": {
        "id": "W6Do4bm26MqR"
      }
    },
    {
      "cell_type": "code",
      "source": [
        "from pyspark.sql.functions import col\n",
        "\n",
        "df.groupBy('team').sum('gf','ga').orderBy(col('sum(gf)').desc()).show()"
      ],
      "metadata": {
        "id": "lRQc5CEP0T3y",
        "colab": {
          "base_uri": "https://localhost:8080/"
        },
        "outputId": "5cee25c2-af5c-437f-ef07-664f2db0719e"
      },
      "execution_count": 30,
      "outputs": [
        {
          "output_type": "stream",
          "name": "stdout",
          "text": [
            "+--------------------+-------+-------+\n",
            "|                team|sum(gf)|sum(ga)|\n",
            "+--------------------+-------+-------+\n",
            "|     Manchester City|    289|     93|\n",
            "|           Liverpool|    255|    114|\n",
            "|             Arsenal|    240|    120|\n",
            "|   Tottenham Hotspur|    213|    164|\n",
            "|    Newcastle United|    197|    157|\n",
            "|             Chelsea|    191|    143|\n",
            "|         Aston Villa|    179|    161|\n",
            "|   Manchester United|    172|    158|\n",
            "|Brighton and Hove...|    169|    159|\n",
            "|           Brentford|    162|    167|\n",
            "|     West Ham United|    162|    180|\n",
            "|      Crystal Palace|    147|    153|\n",
            "|Wolverhampton Wan...|    119|    166|\n",
            "|             Everton|    117|    174|\n",
            "|      Leicester City|    113|    127|\n",
            "|              Fulham|    110|    114|\n",
            "|         Bournemouth|     91|    138|\n",
            "|        Leeds United|     90|    157|\n",
            "|   Nottingham Forest|     87|    135|\n",
            "|         Southampton|     79|    140|\n",
            "+--------------------+-------+-------+\n",
            "only showing top 20 rows\n",
            "\n"
          ]
        }
      ]
    },
    {
      "cell_type": "markdown",
      "source": [
        "**Mean goals scored of every team per match**"
      ],
      "metadata": {
        "id": "dNSzRHIe6G0Y"
      }
    },
    {
      "cell_type": "code",
      "source": [
        "df.groupBy('team').mean('gf').orderBy(col('avg(gf)').desc()).show()"
      ],
      "metadata": {
        "id": "wndSs7WH4GhG",
        "colab": {
          "base_uri": "https://localhost:8080/"
        },
        "outputId": "c61e931a-c33e-4496-c275-43663dcceaff"
      },
      "execution_count": 31,
      "outputs": [
        {
          "output_type": "stream",
          "name": "stdout",
          "text": [
            "+--------------------+------------------+\n",
            "|                team|           avg(gf)|\n",
            "+--------------------+------------------+\n",
            "|     Manchester City|2.5350877192982457|\n",
            "|           Liverpool| 2.236842105263158|\n",
            "|             Arsenal|2.1052631578947367|\n",
            "|   Tottenham Hotspur| 1.868421052631579|\n",
            "|    Newcastle United|1.7280701754385965|\n",
            "|             Chelsea|1.6754385964912282|\n",
            "|         Aston Villa|1.5701754385964912|\n",
            "|   Manchester United|1.5087719298245614|\n",
            "|      Leicester City| 1.486842105263158|\n",
            "|Brighton and Hove...|1.4824561403508771|\n",
            "|              Fulham|1.4473684210526316|\n",
            "|           Brentford|1.4210526315789473|\n",
            "|     West Ham United|1.4210526315789473|\n",
            "|          Luton Town| 1.368421052631579|\n",
            "|      Crystal Palace|1.2894736842105263|\n",
            "|         Bournemouth|1.1973684210526316|\n",
            "|        Leeds United|1.1842105263157894|\n",
            "|   Nottingham Forest| 1.144736842105263|\n",
            "|Wolverhampton Wan...| 1.043859649122807|\n",
            "|         Southampton|1.0394736842105263|\n",
            "+--------------------+------------------+\n",
            "only showing top 20 rows\n",
            "\n"
          ]
        }
      ]
    },
    {
      "cell_type": "markdown",
      "source": [
        "**Each team's max goal in a match**"
      ],
      "metadata": {
        "id": "itAs3EOg6Ao0"
      }
    },
    {
      "cell_type": "code",
      "source": [
        "df.groupBy('team').max('gf').orderBy(col('max(gf)').desc()).show()"
      ],
      "metadata": {
        "id": "6Bc2uNIl4mL7",
        "colab": {
          "base_uri": "https://localhost:8080/"
        },
        "outputId": "8f7d4b51-b3ba-408a-9083-15fa1a0bcc2b"
      },
      "execution_count": 32,
      "outputs": [
        {
          "output_type": "stream",
          "name": "stdout",
          "text": [
            "+--------------------+-------+\n",
            "|                team|max(gf)|\n",
            "+--------------------+-------+\n",
            "|           Liverpool|      9|\n",
            "|    Newcastle United|      8|\n",
            "|     Manchester City|      7|\n",
            "|             Chelsea|      7|\n",
            "|             Arsenal|      6|\n",
            "|         Aston Villa|      6|\n",
            "|   Tottenham Hotspur|      6|\n",
            "|Brighton and Hove...|      6|\n",
            "|   Manchester United|      5|\n",
            "|           Brentford|      5|\n",
            "|      Crystal Palace|      5|\n",
            "|             Burnley|      5|\n",
            "|              Fulham|      5|\n",
            "|      Leicester City|      5|\n",
            "|             Watford|      5|\n",
            "|             Everton|      5|\n",
            "|        Leeds United|      4|\n",
            "|         Bournemouth|      4|\n",
            "|   Nottingham Forest|      4|\n",
            "|         Southampton|      4|\n",
            "+--------------------+-------+\n",
            "only showing top 20 rows\n",
            "\n"
          ]
        }
      ]
    },
    {
      "cell_type": "markdown",
      "source": [
        "**Sum of all goals in the premier league's three seasons**"
      ],
      "metadata": {
        "id": "fV-6jEw056_x"
      }
    },
    {
      "cell_type": "code",
      "source": [
        "df.agg({'gf':'sum'}).show()"
      ],
      "metadata": {
        "id": "su2bktaJ5J29",
        "colab": {
          "base_uri": "https://localhost:8080/"
        },
        "outputId": "512ff884-1cae-45f8-a8a1-e201429f7c73"
      },
      "execution_count": 33,
      "outputs": [
        {
          "output_type": "stream",
          "name": "stdout",
          "text": [
            "+-------+\n",
            "|sum(gf)|\n",
            "+-------+\n",
            "|   3401|\n",
            "+-------+\n",
            "\n"
          ]
        }
      ]
    },
    {
      "cell_type": "markdown",
      "source": [
        "# Time for ML"
      ],
      "metadata": {
        "id": "m9RZe0uXX4pc"
      }
    },
    {
      "cell_type": "code",
      "source": [
        "df.columns"
      ],
      "metadata": {
        "id": "_mmHjQriYrF4",
        "colab": {
          "base_uri": "https://localhost:8080/"
        },
        "outputId": "b3363794-e615-469b-caac-3832ea811679"
      },
      "execution_count": 34,
      "outputs": [
        {
          "output_type": "execute_result",
          "data": {
            "text/plain": [
              "['_c0',\n",
              " 'date',\n",
              " 'time',\n",
              " 'comp',\n",
              " 'round',\n",
              " 'day',\n",
              " 'venue',\n",
              " 'result',\n",
              " 'gf',\n",
              " 'ga',\n",
              " 'opponent',\n",
              " 'xg',\n",
              " 'xga',\n",
              " 'poss',\n",
              " 'attendance',\n",
              " 'captain',\n",
              " 'formation',\n",
              " 'referee',\n",
              " 'match report',\n",
              " 'notes',\n",
              " 'sh',\n",
              " 'sot',\n",
              " 'dist',\n",
              " 'fk',\n",
              " 'pk',\n",
              " 'pkatt',\n",
              " 'season',\n",
              " 'team']"
            ]
          },
          "metadata": {},
          "execution_count": 34
        }
      ]
    },
    {
      "cell_type": "code",
      "source": [
        "from pyspark.ml.feature import StringIndexer, OneHotEncoder\n",
        "\n",
        "# Encode 'team' column\n",
        "team_indexer = StringIndexer(inputCol=\"team\", outputCol=\"team_enc\")\n",
        "df = team_indexer.fit(df).transform(df)\n",
        "\n",
        "# Encode 'opponent' column\n",
        "opponent_indexer = StringIndexer(inputCol=\"opponent\", outputCol=\"opponent_enc\")\n",
        "df = opponent_indexer.fit(df).transform(df)\n",
        "\n",
        "\n",
        "# Show the transformed DataFrame\n",
        "df.show(5)\n"
      ],
      "metadata": {
        "colab": {
          "base_uri": "https://localhost:8080/"
        },
        "id": "mMcqek8Buu7J",
        "outputId": "460e2405-c256-4221-f7e3-f8e0560ba7a0"
      },
      "execution_count": 35,
      "outputs": [
        {
          "output_type": "stream",
          "name": "stdout",
          "text": [
            "+---+----------+-------------------+--------------+-----------+---+-----+------+---+---+-------------+---+---+----+----------+---------------+---------+--------------+------------+-----+----+----+----+---+---+-----+------+---------------+--------+------------+\n",
            "|_c0|      date|               time|          comp|      round|day|venue|result| gf| ga|     opponent| xg|xga|poss|attendance|        captain|formation|       referee|match report|notes|  sh| sot|dist| fk| pk|pkatt|season|           team|team_enc|opponent_enc|\n",
            "+---+----------+-------------------+--------------+-----------+---+-----+------+---+---+-------------+---+---+----+----------+---------------+---------+--------------+------------+-----+----+----+----+---+---+-----+------+---------------+--------+------------+\n",
            "|  1|2023-08-11|2024-06-09 20:00:00|Premier League|Matchweek 1|Fri| Away|     W|  3|  0|      Burnley|1.9|0.3|65.0|   21572.0|Kevin De Bruyne|  4-2-3-1|  Craig Pawson|Match Report| NULL|17.0| 8.0|13.9|0.0|  0|    0|  2024|Manchester City|     8.0|        15.0|\n",
            "|  3|2023-08-19|2024-06-09 20:00:00|Premier League|Matchweek 2|Sat| Home|     W|  1|  0|Newcastle Utd|1.0|0.3|59.0|   53419.0|    Kyle Walker|  4-2-3-1|  Robert Jones|Match Report| NULL|14.0| 4.0|17.9|0.0|  0|    0|  2024|Manchester City|     8.0|        10.0|\n",
            "|  4|2023-08-27|2024-06-09 14:00:00|Premier League|Matchweek 3|Sun| Away|     W|  2|  1|Sheffield Utd|3.5|0.7|79.0|   31336.0|    Kyle Walker|  4-2-3-1|Jarred Gillett|Match Report| NULL|29.0| 9.0|17.3|2.0|  0|    1|  2024|Manchester City|     8.0|        23.0|\n",
            "|  5|2023-09-02|2024-06-09 15:00:00|Premier League|Matchweek 4|Sat| Home|     W|  5|  1|       Fulham|2.2|1.4|68.0|   52899.0|    Kyle Walker|  4-2-3-1|Michael Oliver|Match Report| NULL| 6.0| 4.0|14.8|0.0|  1|    1|  2024|Manchester City|     8.0|        16.0|\n",
            "|  6|2023-09-16|2024-06-09 15:00:00|Premier League|Matchweek 5|Sat| Away|     W|  3|  1|     West Ham|3.6|0.9|68.0|   62475.0|    Kyle Walker|  4-2-3-1|   Andy Madley|Match Report| NULL|29.0|13.0|16.4|1.0|  0|    0|  2024|Manchester City|     8.0|        12.0|\n",
            "+---+----------+-------------------+--------------+-----------+---+-----+------+---+---+-------------+---+---+----+----------+---------------+---------+--------------+------------+-----+----+----+----+---+---+-----+------+---------------+--------+------------+\n",
            "only showing top 5 rows\n",
            "\n"
          ]
        }
      ]
    },
    {
      "cell_type": "code",
      "source": [
        "from pyspark.sql.functions import col\n",
        "from itertools import combinations\n",
        "import pandas as pd\n",
        "import seaborn as sns\n",
        "import matplotlib.pyplot as plt\n",
        "\n",
        "# Select numeric columns for correlation calculation\n",
        "numeric_columns = ['gf', 'ga', 'attendance', 'sh', 'xga', 'xg', 'sot', 'pkatt', 'team_enc', 'opponent_enc']\n",
        "\n",
        "# Initialize an empty list to store correlation results\n",
        "correlation_results = []\n",
        "\n",
        "# Calculate correlation between each pair of numeric columns\n",
        "for col1, col2 in combinations(numeric_columns, 2):\n",
        "    corr_value = df.stat.corr(col1, col2)\n",
        "    correlation_results.append((col1, col2, corr_value))\n",
        "    correlation_results.append((col2, col1, corr_value))  # Add reverse pair for symmetry\n",
        "\n",
        "# Add diagonal correlations (1.0 for correlation with itself)\n",
        "for col in numeric_columns:\n",
        "    correlation_results.append((col, col, 1.0))\n",
        "\n",
        "# Convert the results to a DataFrame\n",
        "correlation_df = spark.createDataFrame(correlation_results, [\"Feature1\", \"Feature2\", \"Correlation\"])\n",
        "\n",
        "# Convert the Spark DataFrame to Pandas DataFrame for visualization\n",
        "correlation_pandas_df = correlation_df.toPandas()\n",
        "\n",
        "# Create a pivot table to convert long format to wide format for heatmap\n",
        "correlation_matrix = correlation_pandas_df.pivot(index='Feature1', columns='Feature2', values='Correlation')\n",
        "\n",
        "# Ensure the correlation matrix is square by reindexing\n",
        "correlation_matrix = correlation_matrix.reindex(index=numeric_columns, columns=numeric_columns)\n",
        "\n",
        "# Plot the heatmap using seaborn\n",
        "plt.figure(figsize=(12, 10))\n",
        "sns.heatmap(correlation_matrix, annot=True, cmap='coolwarm', center=0)\n",
        "plt.title('Correlation Matrix Heatmap')\n",
        "plt.show()\n"
      ],
      "metadata": {
        "colab": {
          "base_uri": "https://localhost:8080/",
          "height": 956
        },
        "id": "nrpuQ2Pacw09",
        "outputId": "3ec3093c-606a-4af0-e78f-b2abf64b2ef3"
      },
      "execution_count": 36,
      "outputs": [
        {
          "output_type": "display_data",
          "data": {
            "text/plain": [
              "<Figure size 1200x1000 with 2 Axes>"
            ],
            "image/png": "[encoded data removed]"
          },
          "metadata": {}
        }
      ]
    },
    {
      "cell_type": "code",
      "source": [
        "from pyspark.ml.feature import VectorAssembler\n",
        "Assembler = VectorAssembler(inputCols = [\"sh\",\"xga\" ,\"sot\",\"pkatt\"],\n",
        "                            outputCol = \"xG_prediction\")"
      ],
      "metadata": {
        "id": "F4YX6f--55q6"
      },
      "execution_count": 37,
      "outputs": []
    },
    {
      "cell_type": "code",
      "source": [
        "new_df = Assembler.transform(df)\n",
        "new_df.show()"
      ],
      "metadata": {
        "colab": {
          "base_uri": "https://localhost:8080/"
        },
        "id": "pG2pwvhzZNGC",
        "outputId": "ee22eca3-2bcc-41be-d212-397ec2cdee81"
      },
      "execution_count": 38,
      "outputs": [
        {
          "output_type": "stream",
          "name": "stdout",
          "text": [
            "+---+----------+-------------------+--------------+------------+---+-----+------+---+---+---------------+---+---+----+----------+---------------+---------+--------------+------------+-----+----+----+----+---+---+-----+------+---------------+--------+------------+-------------------+\n",
            "|_c0|      date|               time|          comp|       round|day|venue|result| gf| ga|       opponent| xg|xga|poss|attendance|        captain|formation|       referee|match report|notes|  sh| sot|dist| fk| pk|pkatt|season|           team|team_enc|opponent_enc|      xG_prediction|\n",
            "+---+----------+-------------------+--------------+------------+---+-----+------+---+---+---------------+---+---+----+----------+---------------+---------+--------------+------------+-----+----+----+----+---+---+-----+------+---------------+--------+------------+-------------------+\n",
            "|  1|2023-08-11|2024-06-09 20:00:00|Premier League| Matchweek 1|Fri| Away|     W|  3|  0|        Burnley|1.9|0.3|65.0|   21572.0|Kevin De Bruyne|  4-2-3-1|  Craig Pawson|Match Report| NULL|17.0| 8.0|13.9|0.0|  0|    0|  2024|Manchester City|     8.0|        15.0| [17.0,0.3,8.0,0.0]|\n",
            "|  3|2023-08-19|2024-06-09 20:00:00|Premier League| Matchweek 2|Sat| Home|     W|  1|  0|  Newcastle Utd|1.0|0.3|59.0|   53419.0|    Kyle Walker|  4-2-3-1|  Robert Jones|Match Report| NULL|14.0| 4.0|17.9|0.0|  0|    0|  2024|Manchester City|     8.0|        10.0| [14.0,0.3,4.0,0.0]|\n",
            "|  4|2023-08-27|2024-06-09 14:00:00|Premier League| Matchweek 3|Sun| Away|     W|  2|  1|  Sheffield Utd|3.5|0.7|79.0|   31336.0|    Kyle Walker|  4-2-3-1|Jarred Gillett|Match Report| NULL|29.0| 9.0|17.3|2.0|  0|    1|  2024|Manchester City|     8.0|        23.0| [29.0,0.7,9.0,1.0]|\n",
            "|  5|2023-09-02|2024-06-09 15:00:00|Premier League| Matchweek 4|Sat| Home|     W|  5|  1|         Fulham|2.2|1.4|68.0|   52899.0|    Kyle Walker|  4-2-3-1|Michael Oliver|Match Report| NULL| 6.0| 4.0|14.8|0.0|  1|    1|  2024|Manchester City|     8.0|        16.0|  [6.0,1.4,4.0,1.0]|\n",
            "|  6|2023-09-16|2024-06-09 15:00:00|Premier League| Matchweek 5|Sat| Away|     W|  3|  1|       West Ham|3.6|0.9|68.0|   62475.0|    Kyle Walker|  4-2-3-1|   Andy Madley|Match Report| NULL|29.0|13.0|16.4|1.0|  0|    0|  2024|Manchester City|     8.0|        12.0|[29.0,0.9,13.0,0.0]|\n",
            "|  8|2023-09-23|2024-06-09 15:00:00|Premier League| Matchweek 6|Sat| Home|     W|  2|  0|Nott'ham Forest|1.3|1.0|57.0|   53413.0|    Kyle Walker|  4-2-3-1|Anthony Taylor|Match Report| NULL| 7.0| 4.0|17.2|2.0|  0|    0|  2024|Manchester City|     8.0|        19.0|  [7.0,1.0,4.0,0.0]|\n",
            "| 10|2023-09-30|2024-06-09 15:00:00|Premier League| Matchweek 7|Sat| Away|     L|  1|  2|         Wolves|0.9|0.4|68.0|   31415.0|    Kyle Walker|  4-2-3-1|  Craig Pawson|Match Report| NULL|23.0| 8.0|19.3|1.0|  0|    0|  2024|Manchester City|     8.0|        13.0| [23.0,0.4,8.0,0.0]|\n",
            "| 12|2023-10-08|2024-06-09 16:30:00|Premier League| Matchweek 8|Sun| Away|     L|  0|  1|        Arsenal|0.5|0.4|51.0|   60233.0|    Kyle Walker|    4-3-3|Michael Oliver|Match Report| NULL| 4.0| 0.0|14.9|0.0|  0|    0|  2024|Manchester City|     8.0|         0.0|  [4.0,0.4,0.0,0.0]|\n",
            "| 13|2023-10-21|2024-06-09 15:00:00|Premier League| Matchweek 9|Sat| Home|     W|  2|  1|       Brighton|0.8|0.8|55.0|   53466.0|    Kyle Walker|  3-2-4-1|  Robert Jones|Match Report| NULL|10.0| 5.0|18.8|1.0|  0|    0|  2024|Manchester City|     8.0|         3.0| [10.0,0.8,5.0,0.0]|\n",
            "| 15|2023-10-29|2024-06-09 15:30:00|Premier League|Matchweek 10|Sun| Away|     W|  3|  0| Manchester Utd|4.0|0.9|60.0|   73502.0|    Kyle Walker|  4-2-3-1|  Paul Tierney|Match Report| NULL|20.0| 9.0|17.2|2.0|  1|    1|  2024|Manchester City|     8.0|         9.0| [20.0,0.9,9.0,1.0]|\n",
            "| 16|2023-11-04|2024-06-09 15:00:00|Premier League|Matchweek 11|Sat| Home|     W|  6|  1|    Bournemouth|1.9|0.9|65.0|   53358.0|    Kyle Walker|    3-4-3|  Craig Pawson|Match Report| NULL|21.0| 8.0|16.4|0.0|  0|    0|  2024|Manchester City|     8.0|        14.0| [21.0,0.9,8.0,0.0]|\n",
            "| 18|2023-11-12|2024-06-09 16:30:00|Premier League|Matchweek 12|Sun| Away|     D|  4|  4|        Chelsea|2.9|2.9|55.0|   39532.0|    Kyle Walker|  3-2-4-1|Anthony Taylor|Match Report| NULL|14.0| 9.0|16.6|1.0|  1|    1|  2024|Manchester City|     8.0|         4.0| [14.0,2.9,9.0,1.0]|\n",
            "| 19|2023-11-25|2024-06-09 12:30:00|Premier League|Matchweek 13|Sat| Home|     D|  1|  1|      Liverpool|1.3|0.6|59.0|   53289.0|    Kyle Walker|  3-2-4-1|Chris Kavanagh|Match Report| NULL|16.0| 5.0|16.3|1.0|  0|    0|  2024|Manchester City|     8.0|         7.0| [16.0,0.6,5.0,0.0]|\n",
            "| 21|2023-12-03|2024-06-09 16:30:00|Premier League|Matchweek 14|Sun| Home|     D|  3|  3|      Tottenham|2.6|0.5|55.0|   53473.0|    Kyle Walker|  3-2-4-1|  Simon Hooper|Match Report| NULL|17.0| 4.0|13.4|0.0|  0|    0|  2024|Manchester City|     8.0|        11.0| [17.0,0.5,4.0,0.0]|\n",
            "| 22|2023-12-06|2024-06-09 20:15:00|Premier League|Matchweek 15|Wed| Away|     L|  0|  1|    Aston Villa|0.6|2.3|54.0|   41421.0|    Kyle Walker|  3-2-4-1|   John Brooks|Match Report| NULL| 2.0| 2.0| 7.4|0.0|  0|    0|  2024|Manchester City|     8.0|         1.0|  [2.0,2.3,2.0,0.0]|\n",
            "| 23|2023-12-10|2024-06-09 14:00:00|Premier League|Matchweek 16|Sun| Away|     W|  2|  1|     Luton Town|1.6|0.3|65.0|   11047.0|    Kyle Walker|  4-2-3-1|  Tim Robinson|Match Report| NULL|18.0| 6.0|18.7|1.0|  0|    0|  2024|Manchester City|     8.0|        21.0| [18.0,0.3,6.0,0.0]|\n",
            "| 25|2023-12-16|2024-06-09 15:00:00|Premier League|Matchweek 17|Sat| Home|     D|  2|  2| Crystal Palace|1.6|1.8|74.0|   53248.0|    Kyle Walker|  4-2-3-1|  Paul Tierney|Match Report| NULL|19.0| 9.0|18.2|0.0|  0|    0|  2024|Manchester City|     8.0|         5.0| [19.0,1.8,9.0,0.0]|\n",
            "| 26|2023-12-27|2024-06-09 20:15:00|Premier League|Matchweek 19|Wed| Away|     W|  3|  1|        Everton|2.4|1.0|72.0|   39327.0|    Kyle Walker|  4-2-3-1|   John Brooks|Match Report| NULL|22.0| 8.0|19.5|1.0|  1|    1|  2024|Manchester City|     8.0|         6.0| [22.0,1.0,8.0,1.0]|\n",
            "| 27|2023-12-30|2024-06-09 15:00:00|Premier League|Matchweek 20|Sat| Home|     W|  2|  0|  Sheffield Utd|2.2|0.3|80.0|   53108.0|    Kyle Walker|  4-2-3-1|   David Coote|Match Report| NULL|18.0| 4.0|17.4|0.0|  0|    0|  2024|Manchester City|     8.0|        23.0| [18.0,0.3,4.0,0.0]|\n",
            "| 29|2024-01-13|2024-06-09 17:30:00|Premier League|Matchweek 21|Sat| Away|     W|  3|  2|  Newcastle Utd|3.0|1.3|72.0|   52190.0|    Kyle Walker|  4-2-3-1|Chris Kavanagh|Match Report| NULL|27.0|11.0|19.3|2.0|  0|    0|  2024|Manchester City|     8.0|        10.0|[27.0,1.3,11.0,0.0]|\n",
            "+---+----------+-------------------+--------------+------------+---+-----+------+---+---+---------------+---+---+----+----------+---------------+---------+--------------+------------+-----+----+----+----+---+---+-----+------+---------------+--------+------------+-------------------+\n",
            "only showing top 20 rows\n",
            "\n"
          ]
        }
      ]
    },
    {
      "cell_type": "code",
      "source": [
        "from pyspark.ml.regression import LinearRegression\n",
        "\n",
        "\n",
        "# Split the data into training and test sets\n",
        "train_df, test_df = new_df.randomSplit([0.8, 0.2], seed=42)\n",
        "\n",
        "# Create and train the Linear Regression model\n",
        "lr = LinearRegression(featuresCol=\"xG_prediction\", labelCol=\"gf\")\n",
        "lr_model = lr.fit(train_df)\n",
        "\n",
        "# Make predictions on the test set\n",
        "goals_predictions = lr_model.transform(test_df)\n",
        "\n",
        "# Evaluate the model\n",
        "goals_predictions.show()\n"
      ],
      "metadata": {
        "colab": {
          "base_uri": "https://localhost:8080/"
        },
        "id": "JFQVP_XPuVc2",
        "outputId": "721a0a40-8f22-4268-9d61-1a3a6c139adb"
      },
      "execution_count": 39,
      "outputs": [
        {
          "output_type": "stream",
          "name": "stdout",
          "text": [
            "+---+----------+-------------------+--------------+-----------+---+-----+------+---+---+---------------+---+---+----+----------+-----------------+---------+---------------+------------+-----+----+----+----+---+---+-----+------+--------------------+--------+------------+-------------------+-------------------+\n",
            "|_c0|      date|               time|          comp|      round|day|venue|result| gf| ga|       opponent| xg|xga|poss|attendance|          captain|formation|        referee|match report|notes|  sh| sot|dist| fk| pk|pkatt|season|                team|team_enc|opponent_enc|      xG_prediction|         prediction|\n",
            "+---+----------+-------------------+--------------+-----------+---+-----+------+---+---+---------------+---+---+----+----------+-----------------+---------+---------------+------------+-----+----+----+----+---+---+-----+------+--------------------+--------+------------+-------------------+-------------------+\n",
            "|  0|2021-08-14|2024-06-09 12:30:00|Premier League|Matchweek 1|Sat| Away|     L|  1|  5| Manchester Utd|0.5|1.5|51.0|   72732.0|      Liam Cooper|  4-1-4-1|   Paul Tierney|Match Report| NULL|10.0| 3.0|21.3|0.0|  0|    0|  2022|        Leeds United|    17.0|         9.0| [10.0,1.5,3.0,0.0]|  1.034273553759352|\n",
            "|  0|2021-08-14|2024-06-09 15:00:00|Premier League|Matchweek 1|Sat| Away|     L|  1|  3|        Everton|0.8|2.4|52.0|   38487.0|James Ward-Prowse|    4-4-2|    Andy Madley|Match Report| NULL| 6.0| 3.0|15.5|0.0|  0|    0|  2022|         Southampton|    20.0|         6.0|  [6.0,2.4,3.0,0.0]| 1.0734987568965924|\n",
            "|  0|2021-08-14|2024-06-09 15:00:00|Premier League|Matchweek 1|Sat| Away|     W|  2|  1|        Burnley|1.0|1.5|63.0|   16910.0|       Lewis Dunk|  4-1-4-1|    David Coote|Match Report| NULL|14.0| 6.0|14.9|1.0|  0|    0|  2022|Brighton and Hove...|     3.0|        15.0| [14.0,1.5,6.0,0.0]|  1.968777970689323|\n",
            "|  0|2021-08-14|2024-06-09 17:30:00|Premier League|Matchweek 1|Sat| Home|     L|  0|  3|      Liverpool|1.4|1.6|50.0|   27023.0|     Grant Hanley|    4-3-3| Andre Marriner|Match Report| NULL|14.0| 3.0|17.1|0.0|  0|    0|  2022|        Norwich City|    22.0|         7.0| [14.0,1.6,3.0,0.0]| 0.8670056333591224|\n",
            "|  0|2022-08-06|2024-06-09 12:30:00|Premier League|Matchweek 1|Sat| Home|     D|  2|  2|      Liverpool|1.2|1.2|33.0|   22207.0|         Tim Ream|  4-2-3-1|    Andy Madley|Match Report| NULL| 8.0| 2.0|18.4|0.0|  1|    1|  2023|              Fulham|    16.0|         7.0|  [8.0,1.2,2.0,1.0]| 1.5155108818218044|\n",
            "|  0|2022-08-06|2024-06-09 15:00:00|Premier League|Matchweek 1|Sat| Away|     L|  1|  4|      Tottenham|0.5|1.5|42.0|   61732.0|James Ward-Prowse|    5-3-2| Andre Marriner|Match Report| NULL|10.0| 2.0|17.1|0.0|  0|    0|  2023|         Southampton|    20.0|        11.0| [10.0,1.5,2.0,0.0]| 0.6712841985580515|\n",
            "|  0|2022-08-06|2024-06-09 17:30:00|Premier League|Matchweek 1|Sat| Home|     L|  0|  1|        Chelsea|0.7|1.5|38.0|   39254.0|  Jordan Pickford|    5-4-1|   Craig Pawson|Match Report| NULL| 8.0| 3.0|13.5|0.0|  0|    0|  2023|             Everton|     6.0|         4.0|  [8.0,1.5,3.0,0.0]| 1.1115053780963176|\n",
            "|  0|2023-08-11|2024-06-09 20:00:00|Premier League|Matchweek 1|Fri| Home|     L|  0|  3|Manchester City|0.3|1.9|35.0|   21572.0|      Josh Cullen|    5-4-1|   Craig Pawson|Match Report| NULL| 6.0| 1.0|14.9|0.0|  0|    0|  2024|             Burnley|    15.0|         8.0|  [6.0,1.9,1.0,0.0]|0.41154140512548604|\n",
            "|  0|2023-08-12|2024-06-09 17:30:00|Premier League|Matchweek 1|Sat| Away|     L|  1|  5|  Newcastle Utd|1.8|3.3|48.0|   52207.0|      John McGinn|  4-2-3-1|    Andy Madley|Match Report| NULL|16.0| 6.0|14.5|1.0|  0|    0|  2024|         Aston Villa|     1.0|        10.0| [16.0,3.3,6.0,0.0]| 1.6610692552789768|\n",
            "|  0|2023-08-12|2024-06-09 17:30:00|Premier League|Matchweek 1|Sat| Home|     W|  5|  1|    Aston Villa|3.3|1.8|52.0|   52207.0|  Kieran Trippier|    4-3-3|    Andy Madley|Match Report| NULL|17.0|12.0|13.2|0.0|  0|    0|  2024|    Newcastle United|    10.0|         1.0|[17.0,1.8,12.0,0.0]| 3.9924535502127814|\n",
            "|  0|2023-08-13|2024-06-09 14:00:00|Premier League|Matchweek 1|Sun| Away|     D|  2|  2|      Brentford|1.3|2.2|69.0|   17066.0|    Son Heung-min|  4-2-3-1|   Robert Jones|Match Report| NULL|18.0| 6.0|19.6|0.0|  0|    0|  2024|   Tottenham Hotspur|    11.0|         2.0| [18.0,2.2,6.0,0.0]| 1.7246844199312996|\n",
            "|  0|2023-08-13|2024-06-09 16:30:00|Premier League|Matchweek 1|Sun| Away|     D|  1|  1|        Chelsea|1.3|1.4|35.0|   40096.0|  Virgil van Dijk|    4-3-3| Anthony Taylor|Match Report| NULL|13.0| 1.0|17.8|0.0|  0|    0|  2024|           Liverpool|     7.0|         4.0| [13.0,1.4,1.0,0.0]|0.20525137857760195|\n",
            "|  0|2023-08-14|2024-06-09 20:00:00|Premier League|Matchweek 1|Mon| Away|     L|  0|  1| Manchester Utd|2.2|2.2|49.0|   73358.0|       Max Kilman|    4-4-2|   Simon Hooper|Match Report| NULL|23.0| 6.0|15.3|0.0|  0|    0|  2024|Wolverhampton Wan...|    13.0|         9.0| [23.0,2.2,6.0,0.0]| 1.5316048590888862|\n",
            "|  1|2021-08-15|2024-06-09 16:30:00|Premier League|Matchweek 1|Sun| Away|     L|  0|  1|      Tottenham|1.8|1.0|65.0|   58262.0|      Fernandinho|    4-3-3| Anthony Taylor|Match Report| NULL|18.0| 4.0|17.3|1.0|  0|    0|  2022|     Manchester City|     8.0|        11.0| [18.0,1.0,4.0,0.0]|  1.152356970244286|\n",
            "|  1|2021-08-21|2024-06-09 15:00:00|Premier League|Matchweek 2|Sat| Home|     D|  0|  0|      Brentford|0.5|0.9|53.0|   23091.0|   James McArthur|    4-3-3|Martin Atkinson|Match Report| NULL| 7.0| 2.0|15.9|0.0|  0|    0|  2022|      Crystal Palace|     5.0|         2.0|  [7.0,0.9,2.0,0.0]| 0.8639575654212932|\n",
            "|  1|2021-08-22|2024-06-09 14:00:00|Premier League|Matchweek 2|Sun| Home|     L|  0|  1|      Tottenham|1.7|1.7|58.0|   30368.0|      Conor Coady|    3-4-3| Stuart Attwell|Match Report| NULL|25.0| 6.0|20.3|0.0|  0|    0|  2022|Wolverhampton Wan...|    13.0|        11.0| [25.0,1.7,6.0,0.0]| 1.5183943933834154|\n",
            "|  1|2022-08-13|2024-06-09 15:00:00|Premier League|Matchweek 2|Sat| Away|     D|  0|  0|         Wolves|1.5|0.9|41.0|   31178.0|         Tim Ream|  4-2-3-1|    John Brooks|Match Report| NULL| 8.0| 2.0|15.7|0.0|  0|    1|  2023|              Fulham|    16.0|        13.0|  [8.0,0.9,2.0,1.0]|  1.553923697000701|\n",
            "|  1|2023-08-19|2024-06-09 15:00:00|Premier League|Matchweek 2|Sat| Home|     L|  1|  4|       Brighton|2.1|2.2|47.0|   31317.0|       Max Kilman|  4-4-1-1|    Andy Madley|Match Report| NULL|16.0| 5.0|16.1|0.0|  0|    0|  2024|Wolverhampton Wan...|    13.0|         3.0| [16.0,2.2,5.0,0.0]| 1.4389268890669646|\n",
            "|  2|2021-08-21|2024-06-09 15:00:00|Premier League|Matchweek 2|Sat| Home|     W|  5|  0|   Norwich City|2.6|0.1|67.0|   51437.0|   İlkay Gündoğan|    4-3-3|   Graham Scott|Match Report| NULL|16.0| 4.0|18.5|1.0|  0|    0|  2022|     Manchester City|     8.0|        22.0| [16.0,0.1,4.0,0.0]| 1.3448272401179415|\n",
            "|  2|2021-08-28|2024-06-09 15:00:00|Premier League|Matchweek 3|Sat| Home|     D|  2|  2| Crystal Palace|1.3|1.1|47.0|   59751.0|      Declan Rice|  4-2-3-1| Stuart Attwell|Match Report| NULL|14.0| 4.0|15.2|0.0|  0|    0|  2022|     West Ham United|    12.0|         5.0| [14.0,1.1,4.0,0.0]| 1.2940163471919177|\n",
            "+---+----------+-------------------+--------------+-----------+---+-----+------+---+---+---------------+---+---+----+----------+-----------------+---------+---------------+------------+-----+----+----+----+---+---+-----+------+--------------------+--------+------------+-------------------+-------------------+\n",
            "only showing top 20 rows\n",
            "\n"
          ]
        }
      ]
    },
    {
      "cell_type": "code",
      "source": [
        "# prompt: add the predictions column to the df, named : xG_Prediction\n",
        "\n",
        "goals_predictions = goals_predictions.withColumnRenamed(\"xG_prediction\", \"xG_Predictor\")\n",
        "goals_predictions = goals_predictions.withColumnRenamed(\"prediction\", \"xG_Prediction\")\n",
        "goals_predictions.show()\n"
      ],
      "metadata": {
        "colab": {
          "base_uri": "https://localhost:8080/"
        },
        "id": "z9bnmy5YhyzB",
        "outputId": "02a98461-b660-4610-a276-43e4999effcc"
      },
      "execution_count": 40,
      "outputs": [
        {
          "output_type": "stream",
          "name": "stdout",
          "text": [
            "+---+----------+-------------------+--------------+-----------+---+-----+------+---+---+---------------+---+---+----+----------+-----------------+---------+---------------+------------+-----+----+----+----+---+---+-----+------+--------------------+--------+------------+-------------------+-------------------+\n",
            "|_c0|      date|               time|          comp|      round|day|venue|result| gf| ga|       opponent| xg|xga|poss|attendance|          captain|formation|        referee|match report|notes|  sh| sot|dist| fk| pk|pkatt|season|                team|team_enc|opponent_enc|       xG_Predictor|      xG_Prediction|\n",
            "+---+----------+-------------------+--------------+-----------+---+-----+------+---+---+---------------+---+---+----+----------+-----------------+---------+---------------+------------+-----+----+----+----+---+---+-----+------+--------------------+--------+------------+-------------------+-------------------+\n",
            "|  0|2021-08-14|2024-06-09 12:30:00|Premier League|Matchweek 1|Sat| Away|     L|  1|  5| Manchester Utd|0.5|1.5|51.0|   72732.0|      Liam Cooper|  4-1-4-1|   Paul Tierney|Match Report| NULL|10.0| 3.0|21.3|0.0|  0|    0|  2022|        Leeds United|    17.0|         9.0| [10.0,1.5,3.0,0.0]|  1.034273553759352|\n",
            "|  0|2021-08-14|2024-06-09 15:00:00|Premier League|Matchweek 1|Sat| Away|     L|  1|  3|        Everton|0.8|2.4|52.0|   38487.0|James Ward-Prowse|    4-4-2|    Andy Madley|Match Report| NULL| 6.0| 3.0|15.5|0.0|  0|    0|  2022|         Southampton|    20.0|         6.0|  [6.0,2.4,3.0,0.0]| 1.0734987568965924|\n",
            "|  0|2021-08-14|2024-06-09 15:00:00|Premier League|Matchweek 1|Sat| Away|     W|  2|  1|        Burnley|1.0|1.5|63.0|   16910.0|       Lewis Dunk|  4-1-4-1|    David Coote|Match Report| NULL|14.0| 6.0|14.9|1.0|  0|    0|  2022|Brighton and Hove...|     3.0|        15.0| [14.0,1.5,6.0,0.0]|  1.968777970689323|\n",
            "|  0|2021-08-14|2024-06-09 17:30:00|Premier League|Matchweek 1|Sat| Home|     L|  0|  3|      Liverpool|1.4|1.6|50.0|   27023.0|     Grant Hanley|    4-3-3| Andre Marriner|Match Report| NULL|14.0| 3.0|17.1|0.0|  0|    0|  2022|        Norwich City|    22.0|         7.0| [14.0,1.6,3.0,0.0]| 0.8670056333591224|\n",
            "|  0|2022-08-06|2024-06-09 12:30:00|Premier League|Matchweek 1|Sat| Home|     D|  2|  2|      Liverpool|1.2|1.2|33.0|   22207.0|         Tim Ream|  4-2-3-1|    Andy Madley|Match Report| NULL| 8.0| 2.0|18.4|0.0|  1|    1|  2023|              Fulham|    16.0|         7.0|  [8.0,1.2,2.0,1.0]| 1.5155108818218044|\n",
            "|  0|2022-08-06|2024-06-09 15:00:00|Premier League|Matchweek 1|Sat| Away|     L|  1|  4|      Tottenham|0.5|1.5|42.0|   61732.0|James Ward-Prowse|    5-3-2| Andre Marriner|Match Report| NULL|10.0| 2.0|17.1|0.0|  0|    0|  2023|         Southampton|    20.0|        11.0| [10.0,1.5,2.0,0.0]| 0.6712841985580515|\n",
            "|  0|2022-08-06|2024-06-09 17:30:00|Premier League|Matchweek 1|Sat| Home|     L|  0|  1|        Chelsea|0.7|1.5|38.0|   39254.0|  Jordan Pickford|    5-4-1|   Craig Pawson|Match Report| NULL| 8.0| 3.0|13.5|0.0|  0|    0|  2023|             Everton|     6.0|         4.0|  [8.0,1.5,3.0,0.0]| 1.1115053780963176|\n",
            "|  0|2023-08-11|2024-06-09 20:00:00|Premier League|Matchweek 1|Fri| Home|     L|  0|  3|Manchester City|0.3|1.9|35.0|   21572.0|      Josh Cullen|    5-4-1|   Craig Pawson|Match Report| NULL| 6.0| 1.0|14.9|0.0|  0|    0|  2024|             Burnley|    15.0|         8.0|  [6.0,1.9,1.0,0.0]|0.41154140512548604|\n",
            "|  0|2023-08-12|2024-06-09 17:30:00|Premier League|Matchweek 1|Sat| Away|     L|  1|  5|  Newcastle Utd|1.8|3.3|48.0|   52207.0|      John McGinn|  4-2-3-1|    Andy Madley|Match Report| NULL|16.0| 6.0|14.5|1.0|  0|    0|  2024|         Aston Villa|     1.0|        10.0| [16.0,3.3,6.0,0.0]| 1.6610692552789768|\n",
            "|  0|2023-08-12|2024-06-09 17:30:00|Premier League|Matchweek 1|Sat| Home|     W|  5|  1|    Aston Villa|3.3|1.8|52.0|   52207.0|  Kieran Trippier|    4-3-3|    Andy Madley|Match Report| NULL|17.0|12.0|13.2|0.0|  0|    0|  2024|    Newcastle United|    10.0|         1.0|[17.0,1.8,12.0,0.0]| 3.9924535502127814|\n",
            "|  0|2023-08-13|2024-06-09 14:00:00|Premier League|Matchweek 1|Sun| Away|     D|  2|  2|      Brentford|1.3|2.2|69.0|   17066.0|    Son Heung-min|  4-2-3-1|   Robert Jones|Match Report| NULL|18.0| 6.0|19.6|0.0|  0|    0|  2024|   Tottenham Hotspur|    11.0|         2.0| [18.0,2.2,6.0,0.0]| 1.7246844199312996|\n",
            "|  0|2023-08-13|2024-06-09 16:30:00|Premier League|Matchweek 1|Sun| Away|     D|  1|  1|        Chelsea|1.3|1.4|35.0|   40096.0|  Virgil van Dijk|    4-3-3| Anthony Taylor|Match Report| NULL|13.0| 1.0|17.8|0.0|  0|    0|  2024|           Liverpool|     7.0|         4.0| [13.0,1.4,1.0,0.0]|0.20525137857760195|\n",
            "|  0|2023-08-14|2024-06-09 20:00:00|Premier League|Matchweek 1|Mon| Away|     L|  0|  1| Manchester Utd|2.2|2.2|49.0|   73358.0|       Max Kilman|    4-4-2|   Simon Hooper|Match Report| NULL|23.0| 6.0|15.3|0.0|  0|    0|  2024|Wolverhampton Wan...|    13.0|         9.0| [23.0,2.2,6.0,0.0]| 1.5316048590888862|\n",
            "|  1|2021-08-15|2024-06-09 16:30:00|Premier League|Matchweek 1|Sun| Away|     L|  0|  1|      Tottenham|1.8|1.0|65.0|   58262.0|      Fernandinho|    4-3-3| Anthony Taylor|Match Report| NULL|18.0| 4.0|17.3|1.0|  0|    0|  2022|     Manchester City|     8.0|        11.0| [18.0,1.0,4.0,0.0]|  1.152356970244286|\n",
            "|  1|2021-08-21|2024-06-09 15:00:00|Premier League|Matchweek 2|Sat| Home|     D|  0|  0|      Brentford|0.5|0.9|53.0|   23091.0|   James McArthur|    4-3-3|Martin Atkinson|Match Report| NULL| 7.0| 2.0|15.9|0.0|  0|    0|  2022|      Crystal Palace|     5.0|         2.0|  [7.0,0.9,2.0,0.0]| 0.8639575654212932|\n",
            "|  1|2021-08-22|2024-06-09 14:00:00|Premier League|Matchweek 2|Sun| Home|     L|  0|  1|      Tottenham|1.7|1.7|58.0|   30368.0|      Conor Coady|    3-4-3| Stuart Attwell|Match Report| NULL|25.0| 6.0|20.3|0.0|  0|    0|  2022|Wolverhampton Wan...|    13.0|        11.0| [25.0,1.7,6.0,0.0]| 1.5183943933834154|\n",
            "|  1|2022-08-13|2024-06-09 15:00:00|Premier League|Matchweek 2|Sat| Away|     D|  0|  0|         Wolves|1.5|0.9|41.0|   31178.0|         Tim Ream|  4-2-3-1|    John Brooks|Match Report| NULL| 8.0| 2.0|15.7|0.0|  0|    1|  2023|              Fulham|    16.0|        13.0|  [8.0,0.9,2.0,1.0]|  1.553923697000701|\n",
            "|  1|2023-08-19|2024-06-09 15:00:00|Premier League|Matchweek 2|Sat| Home|     L|  1|  4|       Brighton|2.1|2.2|47.0|   31317.0|       Max Kilman|  4-4-1-1|    Andy Madley|Match Report| NULL|16.0| 5.0|16.1|0.0|  0|    0|  2024|Wolverhampton Wan...|    13.0|         3.0| [16.0,2.2,5.0,0.0]| 1.4389268890669646|\n",
            "|  2|2021-08-21|2024-06-09 15:00:00|Premier League|Matchweek 2|Sat| Home|     W|  5|  0|   Norwich City|2.6|0.1|67.0|   51437.0|   İlkay Gündoğan|    4-3-3|   Graham Scott|Match Report| NULL|16.0| 4.0|18.5|1.0|  0|    0|  2022|     Manchester City|     8.0|        22.0| [16.0,0.1,4.0,0.0]| 1.3448272401179415|\n",
            "|  2|2021-08-28|2024-06-09 15:00:00|Premier League|Matchweek 3|Sat| Home|     D|  2|  2| Crystal Palace|1.3|1.1|47.0|   59751.0|      Declan Rice|  4-2-3-1| Stuart Attwell|Match Report| NULL|14.0| 4.0|15.2|0.0|  0|    0|  2022|     West Ham United|    12.0|         5.0| [14.0,1.1,4.0,0.0]| 1.2940163471919177|\n",
            "+---+----------+-------------------+--------------+-----------+---+-----+------+---+---+---------------+---+---+----+----------+-----------------+---------+---------------+------------+-----+----+----+----+---+---+-----+------+--------------------+--------+------------+-------------------+-------------------+\n",
            "only showing top 20 rows\n",
            "\n"
          ]
        }
      ]
    },
    {
      "cell_type": "code",
      "source": [
        "goals_predictions.select(\"gf\", \"xg\", \"xG_prediction\").show()"
      ],
      "metadata": {
        "id": "0Vmw74s6yxfX",
        "colab": {
          "base_uri": "https://localhost:8080/"
        },
        "outputId": "1a02b6ab-a005-4fd3-fadf-1370d81fa1bd"
      },
      "execution_count": 47,
      "outputs": [
        {
          "output_type": "stream",
          "name": "stdout",
          "text": [
            "+---+---+-------------------+\n",
            "| gf| xg|      xG_prediction|\n",
            "+---+---+-------------------+\n",
            "|  1|0.5|  1.034273553759352|\n",
            "|  1|0.8| 1.0734987568965924|\n",
            "|  2|1.0|  1.968777970689323|\n",
            "|  0|1.4| 0.8670056333591224|\n",
            "|  2|1.2| 1.5155108818218044|\n",
            "|  1|0.5| 0.6712841985580515|\n",
            "|  0|0.7| 1.1115053780963176|\n",
            "|  0|0.3|0.41154140512548604|\n",
            "|  1|1.8| 1.6610692552789768|\n",
            "|  5|3.3| 3.9924535502127814|\n",
            "|  2|1.3| 1.7246844199312996|\n",
            "|  1|1.3|0.20525137857760195|\n",
            "|  0|2.2| 1.5316048590888862|\n",
            "|  0|1.8|  1.152356970244286|\n",
            "|  0|0.5| 0.8639575654212932|\n",
            "|  0|1.7| 1.5183943933834154|\n",
            "|  0|1.5|  1.553923697000701|\n",
            "|  1|2.1| 1.4389268890669646|\n",
            "|  5|2.6| 1.3448272401179415|\n",
            "|  2|1.3| 1.2940163471919177|\n",
            "+---+---+-------------------+\n",
            "only showing top 20 rows\n",
            "\n"
          ]
        }
      ]
    },
    {
      "cell_type": "code",
      "source": [
        "\n",
        "from pyspark.ml.evaluation import RegressionEvaluator\n",
        "\n",
        "# Calculate the mean absolute error (MAE) for both xG and xG_prediction\n",
        "xG_mae = evaluator.evaluate(goals_predictions, {evaluator.labelCol: \"gf\", evaluator.predictionCol: \"xg\"})\n",
        "xG_prediction_mae = evaluator.evaluate(goals_predictions, {evaluator.labelCol: \"gf\", evaluator.predictionCol: \"xG_Prediction\"})\n",
        "\n",
        "# Print the results\n",
        "print(f\"MAE for xG: {xG_mae}\")\n",
        "print(f\"MAE for xG_prediction: {xG_prediction_mae}\")\n",
        "\n",
        "# Compare the MAE values\n",
        "if xG_mae < xG_prediction_mae:\n",
        "    print(\"xG is closer to the truth value (gf)\")\n",
        "else:\n",
        "    print(\"xG_prediction is closer to the truth value (gf)\")\n"
      ],
      "metadata": {
        "id": "Fa1UfbSljSZm",
        "colab": {
          "base_uri": "https://localhost:8080/"
        },
        "outputId": "0fc7a590-fe57-4500-cc68-f08f8c4f846f"
      },
      "execution_count": 49,
      "outputs": [
        {
          "output_type": "stream",
          "name": "stdout",
          "text": [
            "MAE for xG: 0.8300751879699242\n",
            "MAE for xG_prediction: 0.7749912473452947\n",
            "xG_prediction is closer to the truth value (gf)\n"
          ]
        }
      ]
    }
  ]
}